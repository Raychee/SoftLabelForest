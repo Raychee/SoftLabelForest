{
 "metadata": {
  "name": "",
  "signature": "sha256:32aa08f5d4a45e3fb349d84d7eb429c61ca74aede0e4e2cdf232dc30374a2705"
 },
 "nbformat": 3,
 "nbformat_minor": 0,
 "worksheets": [
  {
   "cells": [
    {
     "cell_type": "heading",
     "level": 1,
     "metadata": {},
     "source": [
      "Environment Settings"
     ]
    },
    {
     "cell_type": "code",
     "collapsed": false,
     "input": [
      "from matplotlib import pyplot as plt\n",
      "%matplotlib inline\n",
      "%load_ext autoreload"
     ],
     "language": "python",
     "metadata": {},
     "outputs": [],
     "prompt_number": 1
    },
    {
     "cell_type": "code",
     "collapsed": false,
     "input": [
      "import re\n",
      "import pickle\n",
      "import numpy as np\n",
      "import scipy.io as sio\n",
      "import os\n",
      "import Qplot\n",
      "import SoftLabelTree\n",
      "import SoftDecisionModel\n",
      "from time import time\n",
      "from SoftDecisionModel import Data, SoftDecisionModel, SoftDecisionSolver\n",
      "from SoftLabelTree import SoftLabelTree, SoftLabelForest\n",
      "from sklearn.linear_model import SGDClassifier\n",
      "from sklearn.preprocessing import normalize\n",
      "from sklearn.metrics import average_precision_score, accuracy_score\n",
      "from joblib import Parallel, delayed\n",
      "\n",
      "os.environ['PYTHONUNBUFFERED'] = '1'\n",
      "# os.environ['OMP_NUM_THREADS'] = '32'"
     ],
     "language": "python",
     "metadata": {},
     "outputs": [],
     "prompt_number": 2
    },
    {
     "cell_type": "heading",
     "level": 1,
     "metadata": {},
     "source": [
      "Data"
     ]
    },
    {
     "cell_type": "heading",
     "level": 2,
     "metadata": {},
     "source": [
      "Toy Data"
     ]
    },
    {
     "cell_type": "code",
     "collapsed": false,
     "input": [
      "data = sio.loadmat('../dat/data5.mat')\n",
      "X = data['X'].astype(np.float32).T\n",
      "Y = data['Y'].astype(np.int32).ravel()\n",
      "X_train = X\n",
      "X_test = X\n",
      "Y_train = Y\n",
      "Y_test = Y"
     ],
     "language": "python",
     "metadata": {},
     "outputs": [],
     "prompt_number": 3
    },
    {
     "cell_type": "heading",
     "level": 2,
     "metadata": {},
     "source": [
      "Caltech-256: Fisher Vector"
     ]
    },
    {
     "cell_type": "code",
     "collapsed": true,
     "input": [
      "data_path = '../../vlfeat-0.9.17/apps/recognition/data/ex-caltech256-fv-sp'\n",
      "sample_dimension = 204800\n",
      "\n",
      "X_list = []\n",
      "# X = np.ndarray((0, sample_dimension), dtype=np.float32)\n",
      "i_chunk = 1\n",
      "next_file_path = '{}/cache/chunk-{:03d}.mat'.format(data_path, i_chunk)\n",
      "while os.path.exists(next_file_path):\n",
      "    print '\\rLoading file:', next_file_path,\n",
      "    X_list.append(sio.loadmat(next_file_path)['data'].astype(np.float32).T)\n",
      "#     X = np.r_[X, sio.loadmat(next_file_path)['data'].astype(np.float32).T]\n",
      "    i_chunk += 1\n",
      "    next_file_path = '{}/cache/chunk-{:03d}.mat'.format(data_path, i_chunk)\n",
      "_imdb = sio.loadmat(data_path+'/imdb.mat', squeeze_me=True)\n",
      "X = np.concatenate(X_list)\n",
      "Y = _imdb['images']['class'][()].astype(np.int32)\n",
      "S = _imdb['images']['set'][()]\n",
      "print '\\rDone.'\n",
      "X_train = X[S==1, :]\n",
      "Y_train = Y[S==1]\n",
      "X_test = X[S==3, :]\n",
      "Y_test = Y[S==3]\n",
      "del i_chunk, next_file_path, _imdb, X, Y, S"
     ],
     "language": "python",
     "metadata": {},
     "outputs": [
      {
       "output_type": "stream",
       "stream": "stdout",
       "text": [
        "\r",
        "Loading file: ../../vlfeat-0.9.17/apps/recognition/data/ex-caltech256-fv-sp/cache/chunk-001.mat "
       ]
      },
      {
       "output_type": "stream",
       "stream": "stdout",
       "text": [
        "\r",
        "Loading file: ../../vlfeat-0.9.17/apps/recognition/data/ex-caltech256-fv-sp/cache/chunk-002.mat "
       ]
      },
      {
       "output_type": "stream",
       "stream": "stdout",
       "text": [
        "\r",
        "Loading file: ../../vlfeat-0.9.17/apps/recognition/data/ex-caltech256-fv-sp/cache/chunk-003.mat "
       ]
      },
      {
       "output_type": "stream",
       "stream": "stdout",
       "text": [
        "\r",
        "Loading file: ../../vlfeat-0.9.17/apps/recognition/data/ex-caltech256-fv-sp/cache/chunk-004.mat "
       ]
      },
      {
       "output_type": "stream",
       "stream": "stdout",
       "text": [
        "\r",
        "Loading file: ../../vlfeat-0.9.17/apps/recognition/data/ex-caltech256-fv-sp/cache/chunk-005.mat "
       ]
      },
      {
       "output_type": "stream",
       "stream": "stdout",
       "text": [
        "\r",
        "Loading file: ../../vlfeat-0.9.17/apps/recognition/data/ex-caltech256-fv-sp/cache/chunk-006.mat "
       ]
      },
      {
       "output_type": "stream",
       "stream": "stdout",
       "text": [
        "\r",
        "Loading file: ../../vlfeat-0.9.17/apps/recognition/data/ex-caltech256-fv-sp/cache/chunk-007.mat "
       ]
      },
      {
       "output_type": "stream",
       "stream": "stdout",
       "text": [
        "\r",
        "Loading file: ../../vlfeat-0.9.17/apps/recognition/data/ex-caltech256-fv-sp/cache/chunk-008.mat "
       ]
      },
      {
       "output_type": "stream",
       "stream": "stdout",
       "text": [
        "\r",
        "Loading file: ../../vlfeat-0.9.17/apps/recognition/data/ex-caltech256-fv-sp/cache/chunk-009.mat "
       ]
      },
      {
       "output_type": "stream",
       "stream": "stdout",
       "text": [
        "\r",
        "Loading file: ../../vlfeat-0.9.17/apps/recognition/data/ex-caltech256-fv-sp/cache/chunk-010.mat "
       ]
      },
      {
       "output_type": "stream",
       "stream": "stdout",
       "text": [
        "\r",
        "Loading file: ../../vlfeat-0.9.17/apps/recognition/data/ex-caltech256-fv-sp/cache/chunk-011.mat "
       ]
      },
      {
       "output_type": "stream",
       "stream": "stdout",
       "text": [
        "\r",
        "Loading file: ../../vlfeat-0.9.17/apps/recognition/data/ex-caltech256-fv-sp/cache/chunk-012.mat "
       ]
      },
      {
       "output_type": "stream",
       "stream": "stdout",
       "text": [
        "\r",
        "Loading file: ../../vlfeat-0.9.17/apps/recognition/data/ex-caltech256-fv-sp/cache/chunk-013.mat "
       ]
      },
      {
       "output_type": "stream",
       "stream": "stdout",
       "text": [
        "\r",
        "Loading file: ../../vlfeat-0.9.17/apps/recognition/data/ex-caltech256-fv-sp/cache/chunk-014.mat "
       ]
      },
      {
       "output_type": "stream",
       "stream": "stdout",
       "text": [
        "\r",
        "Loading file: ../../vlfeat-0.9.17/apps/recognition/data/ex-caltech256-fv-sp/cache/chunk-015.mat "
       ]
      },
      {
       "output_type": "stream",
       "stream": "stdout",
       "text": [
        "\r",
        "Loading file: ../../vlfeat-0.9.17/apps/recognition/data/ex-caltech256-fv-sp/cache/chunk-016.mat "
       ]
      },
      {
       "output_type": "stream",
       "stream": "stdout",
       "text": [
        "\r",
        "Loading file: ../../vlfeat-0.9.17/apps/recognition/data/ex-caltech256-fv-sp/cache/chunk-017.mat "
       ]
      },
      {
       "output_type": "stream",
       "stream": "stdout",
       "text": [
        "\r",
        "Loading file: ../../vlfeat-0.9.17/apps/recognition/data/ex-caltech256-fv-sp/cache/chunk-018.mat "
       ]
      },
      {
       "output_type": "stream",
       "stream": "stdout",
       "text": [
        "\r",
        "Loading file: ../../vlfeat-0.9.17/apps/recognition/data/ex-caltech256-fv-sp/cache/chunk-019.mat "
       ]
      },
      {
       "output_type": "stream",
       "stream": "stdout",
       "text": [
        "\r",
        "Loading file: ../../vlfeat-0.9.17/apps/recognition/data/ex-caltech256-fv-sp/cache/chunk-020.mat "
       ]
      },
      {
       "output_type": "stream",
       "stream": "stdout",
       "text": [
        "\r",
        "Loading file: ../../vlfeat-0.9.17/apps/recognition/data/ex-caltech256-fv-sp/cache/chunk-021.mat "
       ]
      },
      {
       "output_type": "stream",
       "stream": "stdout",
       "text": [
        "\r",
        "Loading file: ../../vlfeat-0.9.17/apps/recognition/data/ex-caltech256-fv-sp/cache/chunk-022.mat "
       ]
      },
      {
       "output_type": "stream",
       "stream": "stdout",
       "text": [
        "\r",
        "Loading file: ../../vlfeat-0.9.17/apps/recognition/data/ex-caltech256-fv-sp/cache/chunk-023.mat "
       ]
      },
      {
       "output_type": "stream",
       "stream": "stdout",
       "text": [
        "\r",
        "Loading file: ../../vlfeat-0.9.17/apps/recognition/data/ex-caltech256-fv-sp/cache/chunk-024.mat "
       ]
      },
      {
       "output_type": "stream",
       "stream": "stdout",
       "text": [
        "\r",
        "Loading file: ../../vlfeat-0.9.17/apps/recognition/data/ex-caltech256-fv-sp/cache/chunk-025.mat "
       ]
      },
      {
       "output_type": "stream",
       "stream": "stdout",
       "text": [
        "\r",
        "Loading file: ../../vlfeat-0.9.17/apps/recognition/data/ex-caltech256-fv-sp/cache/chunk-026.mat "
       ]
      },
      {
       "output_type": "stream",
       "stream": "stdout",
       "text": [
        "\r",
        "Loading file: ../../vlfeat-0.9.17/apps/recognition/data/ex-caltech256-fv-sp/cache/chunk-027.mat "
       ]
      },
      {
       "output_type": "stream",
       "stream": "stdout",
       "text": [
        "\r",
        "Loading file: ../../vlfeat-0.9.17/apps/recognition/data/ex-caltech256-fv-sp/cache/chunk-028.mat "
       ]
      },
      {
       "output_type": "stream",
       "stream": "stdout",
       "text": [
        "\r",
        "Done.\n"
       ]
      }
     ],
     "prompt_number": 3
    },
    {
     "cell_type": "heading",
     "level": 2,
     "metadata": {},
     "source": [
      "Caltech-256: CNN"
     ]
    },
    {
     "cell_type": "code",
     "collapsed": false,
     "input": [
      "data_path = '/DATACENTER/2/Dataset/caltec256/layer7'\n",
      "sample_dimension = 4096\n",
      "num_of_training_samples_each_class = 50\n",
      "num_of_samples_each_class = 80"
     ],
     "language": "python",
     "metadata": {},
     "outputs": [],
     "prompt_number": 3
    },
    {
     "cell_type": "code",
     "collapsed": true,
     "input": [
      "file_list = os.listdir(data_path)\n",
      "X_list = [None] * len(file_list)\n",
      "Y_list = [None] * len(file_list)\n",
      "X_train_list = [None] * len(file_list)\n",
      "Y_train_list = [None] * len(file_list)\n",
      "X_test_list = [None] * len(file_list)\n",
      "Y_test_list = [None] * len(file_list)\n",
      "regexp_file_label = re.compile('(\\d+)\\..*')\n",
      "for i_file, file_name in enumerate(file_list):\n",
      "    file_path = '{}/{}'.format(data_path, file_name)\n",
      "    print '\\rLoading file ({}/{}): {}'.format(i_file + 1, len(file_list), file_path),\n",
      "    X_i_file = np.fromfile(file_path, dtype=np.float32).reshape((-1, sample_dimension))\n",
      "    y_i_file = int(regexp_file_label.match(file_name).group(1))\n",
      "    Y_i_file = np.empty(X_i_file.shape[0], dtype=np.int32)\n",
      "    Y_i_file[...] = y_i_file\n",
      "    rand_index = np.random.permutation(X_i_file.shape[0])\n",
      "    X_train_i_file = X_i_file[rand_index[:num_of_training_samples_each_class], :]\n",
      "    Y_train_i_file = np.empty(X_train_i_file.shape[0], dtype=np.int32)\n",
      "    Y_train_i_file[...] = y_i_file\n",
      "    X_test_i_file = X_i_file[rand_index[num_of_training_samples_each_class:num_of_samples_each_class], :]\n",
      "    Y_test_i_file = np.empty(X_test_i_file.shape[0], dtype=np.int32)\n",
      "    Y_test_i_file[...] = y_i_file\n",
      "    X_list[i_file] = X_i_file\n",
      "    Y_list[i_file] = Y_i_file\n",
      "    X_train_list[i_file] = X_train_i_file\n",
      "    Y_train_list[i_file] = Y_train_i_file\n",
      "    X_test_list[i_file] = X_test_i_file\n",
      "    Y_test_list[i_file] = Y_test_i_file\n",
      "print '\\rDone.'\n",
      "X = np.concatenate(X_list)\n",
      "Y = np.concatenate(Y_list)\n",
      "X_train = np.concatenate(X_train_list)\n",
      "Y_train = np.concatenate(Y_train_list)\n",
      "X_test = np.concatenate(X_test_list)\n",
      "Y_test = np.concatenate(Y_test_list)\n",
      "np.savez_compressed('{}/QQCaltech256'.format(data_path), X=X, Y=Y, \n",
      "                    X_train=X_train, X_test=X_test,\n",
      "                    Y_train=Y_train, Y_test=Y_test)"
     ],
     "language": "python",
     "metadata": {},
     "outputs": [
      {
       "output_type": "stream",
       "stream": "stdout",
       "text": [
        "\r",
        "Loading file: /DATACENTER/2/Dataset/caltec256/layer7/088.golf-ball \r",
        "Loading file: /DATACENTER/2/Dataset/caltec256/layer7/105.horse \r",
        "Loading file: /DATACENTER/2/Dataset/caltec256/layer7/014.blimp \r",
        "Loading file: /DATACENTER/2/Dataset/caltec256/layer7/229.tricycle \r",
        "Loading file: /DATACENTER/2/Dataset/caltec256/layer7/045.computer-keyboard \r",
        "Loading file: /DATACENTER/2/Dataset/caltec256/layer7/030.canoe "
       ]
      },
      {
       "output_type": "stream",
       "stream": "stdout",
       "text": [
        "\r",
        "Loading file: /DATACENTER/2/Dataset/caltec256/layer7/115.ice-cream-cone \r",
        "Loading file: /DATACENTER/2/Dataset/caltec256/layer7/098.harp \r",
        "Loading file: /DATACENTER/2/Dataset/caltec256/layer7/010.beer-mug \r",
        "Loading file: /DATACENTER/2/Dataset/caltec256/layer7/112.human-skeleton \r",
        "Loading file: /DATACENTER/2/Dataset/caltec256/layer7/009.bear \r",
        "Loading file: /DATACENTER/2/Dataset/caltec256/layer7/171.refrigerator \r",
        "Loading file: /DATACENTER/2/Dataset/caltec256/layer7/111.house-fly \r",
        "Loading file: /DATACENTER/2/Dataset/caltec256/layer7/227.treadmill "
       ]
      },
      {
       "output_type": "stream",
       "stream": "stdout",
       "text": [
        "\r",
        "Loading file: /DATACENTER/2/Dataset/caltec256/layer7/136.mandolin \r",
        "Loading file: /DATACENTER/2/Dataset/caltec256/layer7/256.toad \r",
        "Loading file: /DATACENTER/2/Dataset/caltec256/layer7/001.ak47 \r",
        "Loading file: /DATACENTER/2/Dataset/caltec256/layer7/159.people \r",
        "Loading file: /DATACENTER/2/Dataset/caltec256/layer7/233.tuning-fork \r",
        "Loading file: /DATACENTER/2/Dataset/caltec256/layer7/077.french-horn \r",
        "Loading file: /DATACENTER/2/Dataset/caltec256/layer7/173.rifle \r",
        "Loading file: /DATACENTER/2/Dataset/caltec256/layer7/118.iris \r",
        "Loading file: /DATACENTER/2/Dataset/caltec256/layer7/074.flashlight \r",
        "Loading file: /DATACENTER/2/Dataset/caltec256/layer7/109.hot-tub "
       ]
      },
      {
       "output_type": "stream",
       "stream": "stdout",
       "text": [
        "\r",
        "Loading file: /DATACENTER/2/Dataset/caltec256/layer7/209.sword \r",
        "Loading file: /DATACENTER/2/Dataset/caltec256/layer7/028.camel \r",
        "Loading file: /DATACENTER/2/Dataset/caltec256/layer7/037.chess-board \r",
        "Loading file: /DATACENTER/2/Dataset/caltec256/layer7/043.coin \r",
        "Loading file: /DATACENTER/2/Dataset/caltec256/layer7/066.ewer-101 \r",
        "Loading file: /DATACENTER/2/Dataset/caltec256/layer7/140.menorah-101 \r",
        "Loading file: /DATACENTER/2/Dataset/caltec256/layer7/191.sneaker \r",
        "Loading file: /DATACENTER/2/Dataset/caltec256/layer7/243.welding-mask \r",
        "Loading file: /DATACENTER/2/Dataset/caltec256/layer7/221.tomato \r",
        "Loading file: /DATACENTER/2/Dataset/caltec256/layer7/053.desk-globe \r",
        "Loading file: /DATACENTER/2/Dataset/caltec256/layer7/218.tennis-racket \r",
        "Loading file: /DATACENTER/2/Dataset/caltec256/layer7/246.wine-bottle \r",
        "Loading file: /DATACENTER/2/Dataset/caltec256/layer7/056.dog "
       ]
      },
      {
       "output_type": "stream",
       "stream": "stdout",
       "text": [
        "\r",
        "Loading file: /DATACENTER/2/Dataset/caltec256/layer7/183.sextant \r",
        "Loading file: /DATACENTER/2/Dataset/caltec256/layer7/145.motorbikes-101 "
       ]
      },
      {
       "output_type": "stream",
       "stream": "stdout",
       "text": [
        "\r",
        "Loading file: /DATACENTER/2/Dataset/caltec256/layer7/063.electric-guitar-101 \r",
        "Loading file: /DATACENTER/2/Dataset/caltec256/layer7/059.drinking-straw \r",
        "Loading file: /DATACENTER/2/Dataset/caltec256/layer7/051.cowboy-hat \r",
        "Loading file: /DATACENTER/2/Dataset/caltec256/layer7/006.basketball-hoop \r",
        "Loading file: /DATACENTER/2/Dataset/caltec256/layer7/214.teepee "
       ]
      },
      {
       "output_type": "stream",
       "stream": "stdout",
       "text": [
        "\r",
        "Loading file: /DATACENTER/2/Dataset/caltec256/layer7/192.snowmobile \r",
        "Loading file: /DATACENTER/2/Dataset/caltec256/layer7/141.microscope \r",
        "Loading file: /DATACENTER/2/Dataset/caltec256/layer7/205.superman \r",
        "Loading file: /DATACENTER/2/Dataset/caltec256/layer7/194.socks \r",
        "Loading file: /DATACENTER/2/Dataset/caltec256/layer7/165.pram "
       ]
      },
      {
       "output_type": "stream",
       "stream": "stdout",
       "text": [
        "\r",
        "Loading file: /DATACENTER/2/Dataset/caltec256/layer7/065.elk \r",
        "Loading file: /DATACENTER/2/Dataset/caltec256/layer7/143.minaret \r",
        "Loading file: /DATACENTER/2/Dataset/caltec256/layer7/157.pci-card \r",
        "Loading file: /DATACENTER/2/Dataset/caltec256/layer7/144.minotaur \r",
        "Loading file: /DATACENTER/2/Dataset/caltec256/layer7/046.computer-monitor \r",
        "Loading file: /DATACENTER/2/Dataset/caltec256/layer7/224.touring-bike \r",
        "Loading file: /DATACENTER/2/Dataset/caltec256/layer7/219.theodolite "
       ]
      },
      {
       "output_type": "stream",
       "stream": "stdout",
       "text": [
        "\r",
        "Loading file: /DATACENTER/2/Dataset/caltec256/layer7/040.cockroach \r",
        "Loading file: /DATACENTER/2/Dataset/caltec256/layer7/055.dice \r",
        "Loading file: /DATACENTER/2/Dataset/caltec256/layer7/175.roulette-wheel \r",
        "Loading file: /DATACENTER/2/Dataset/caltec256/layer7/125.knife \r",
        "Loading file: /DATACENTER/2/Dataset/caltec256/layer7/132.light-house \r",
        "Loading file: /DATACENTER/2/Dataset/caltec256/layer7/015.bonsai-101 \r",
        "Loading file: /DATACENTER/2/Dataset/caltec256/layer7/089.goose \r",
        "Loading file: /DATACENTER/2/Dataset/caltec256/layer7/004.baseball-bat \r",
        "Loading file: /DATACENTER/2/Dataset/caltec256/layer7/128.lathe "
       ]
      },
      {
       "output_type": "stream",
       "stream": "stdout",
       "text": [
        "\r",
        "Loading file: /DATACENTER/2/Dataset/caltec256/layer7/217.tennis-court \r",
        "Loading file: /DATACENTER/2/Dataset/caltec256/layer7/164.porcupine \r",
        "Loading file: /DATACENTER/2/Dataset/caltec256/layer7/071.fire-hydrant \r",
        "Loading file: /DATACENTER/2/Dataset/caltec256/layer7/114.ibis-101 \r",
        "Loading file: /DATACENTER/2/Dataset/caltec256/layer7/207.swan \r",
        "Loading file: /DATACENTER/2/Dataset/caltec256/layer7/193.soccer-ball \r",
        "Loading file: /DATACENTER/2/Dataset/caltec256/layer7/252.car-side-101 \r",
        "Loading file: /DATACENTER/2/Dataset/caltec256/layer7/186.skunk \r",
        "Loading file: /DATACENTER/2/Dataset/caltec256/layer7/184.sheet-music \r",
        "Loading file: /DATACENTER/2/Dataset/caltec256/layer7/201.starfish-101 "
       ]
      },
      {
       "output_type": "stream",
       "stream": "stdout",
       "text": [
        "\r",
        "Loading file: /DATACENTER/2/Dataset/caltec256/layer7/156.paper-shredder \r",
        "Loading file: /DATACENTER/2/Dataset/caltec256/layer7/234.tweezer \r",
        "Loading file: /DATACENTER/2/Dataset/caltec256/layer7/160.pez-dispenser \r",
        "Loading file: /DATACENTER/2/Dataset/caltec256/layer7/072.fire-truck \r",
        "Loading file: /DATACENTER/2/Dataset/caltec256/layer7/189.snail \r",
        "Loading file: /DATACENTER/2/Dataset/caltec256/layer7/226.traffic-light \r",
        "Loading file: /DATACENTER/2/Dataset/caltec256/layer7/024.butterfly \r",
        "Loading file: /DATACENTER/2/Dataset/caltec256/layer7/149.necktie \r",
        "Loading file: /DATACENTER/2/Dataset/caltec256/layer7/250.zebra "
       ]
      },
      {
       "output_type": "stream",
       "stream": "stdout",
       "text": [
        "\r",
        "Loading file: /DATACENTER/2/Dataset/caltec256/layer7/052.crab-101 \r",
        "Loading file: /DATACENTER/2/Dataset/caltec256/layer7/075.floppy-disk \r",
        "Loading file: /DATACENTER/2/Dataset/caltec256/layer7/122.kayak \r",
        "Loading file: /DATACENTER/2/Dataset/caltec256/layer7/166.praying-mantis \r",
        "Loading file: /DATACENTER/2/Dataset/caltec256/layer7/102.helicopter-101 \r",
        "Loading file: /DATACENTER/2/Dataset/caltec256/layer7/237.vcr \r",
        "Loading file: /DATACENTER/2/Dataset/caltec256/layer7/240.watch-101 \r",
        "Loading file: /DATACENTER/2/Dataset/caltec256/layer7/085.goat \r",
        "Loading file: /DATACENTER/2/Dataset/caltec256/layer7/096.hammock \r",
        "Loading file: /DATACENTER/2/Dataset/caltec256/layer7/013.birdbath "
       ]
      },
      {
       "output_type": "stream",
       "stream": "stdout",
       "text": [
        "\r",
        "Loading file: /DATACENTER/2/Dataset/caltec256/layer7/211.tambourine \r",
        "Loading file: /DATACENTER/2/Dataset/caltec256/layer7/232.t-shirt \r",
        "Loading file: /DATACENTER/2/Dataset/caltec256/layer7/107.hot-air-balloon \r",
        "Loading file: /DATACENTER/2/Dataset/caltec256/layer7/049.cormorant \r",
        "Loading file: /DATACENTER/2/Dataset/caltec256/layer7/019.boxing-glove \r",
        "Loading file: /DATACENTER/2/Dataset/caltec256/layer7/032.cartman \r",
        "Loading file: /DATACENTER/2/Dataset/caltec256/layer7/126.ladder \r",
        "Loading file: /DATACENTER/2/Dataset/caltec256/layer7/177.saturn \r",
        "Loading file: /DATACENTER/2/Dataset/caltec256/layer7/124.killer-whale \r",
        "Loading file: /DATACENTER/2/Dataset/caltec256/layer7/060.duck "
       ]
      },
      {
       "output_type": "stream",
       "stream": "stdout",
       "text": [
        "\r",
        "Loading file: /DATACENTER/2/Dataset/caltec256/layer7/002.american-flag \r",
        "Loading file: /DATACENTER/2/Dataset/caltec256/layer7/135.mailbox \r",
        "Loading file: /DATACENTER/2/Dataset/caltec256/layer7/086.golden-gate-bridge \r",
        "Loading file: /DATACENTER/2/Dataset/caltec256/layer7/033.cd \r",
        "Loading file: /DATACENTER/2/Dataset/caltec256/layer7/011.billiards \r",
        "Loading file: /DATACENTER/2/Dataset/caltec256/layer7/204.sunflower-101 \r",
        "Loading file: /DATACENTER/2/Dataset/caltec256/layer7/152.owl \r",
        "Loading file: /DATACENTER/2/Dataset/caltec256/layer7/027.calculator \r",
        "Loading file: /DATACENTER/2/Dataset/caltec256/layer7/106.horseshoe-crab "
       ]
      },
      {
       "output_type": "stream",
       "stream": "stdout",
       "text": [
        "\r",
        "Loading file: /DATACENTER/2/Dataset/caltec256/layer7/153.palm-pilot \r",
        "Loading file: /DATACENTER/2/Dataset/caltec256/layer7/067.eyeglasses \r",
        "Loading file: /DATACENTER/2/Dataset/caltec256/layer7/174.rotary-phone \r",
        "Loading file: /DATACENTER/2/Dataset/caltec256/layer7/113.hummingbird \r",
        "Loading file: /DATACENTER/2/Dataset/caltec256/layer7/245.windmill \r",
        "Loading file: /DATACENTER/2/Dataset/caltec256/layer7/168.raccoon \r",
        "Loading file: /DATACENTER/2/Dataset/caltec256/layer7/031.car-tire \r",
        "Loading file: /DATACENTER/2/Dataset/caltec256/layer7/076.football-helmet \r",
        "Loading file: /DATACENTER/2/Dataset/caltec256/layer7/036.chandelier-101 \r",
        "Loading file: /DATACENTER/2/Dataset/caltec256/layer7/097.harmonica "
       ]
      },
      {
       "output_type": "stream",
       "stream": "stdout",
       "text": [
        "\r",
        "Loading file: /DATACENTER/2/Dataset/caltec256/layer7/064.elephant-101 \r",
        "Loading file: /DATACENTER/2/Dataset/caltec256/layer7/081.frying-pan \r",
        "Loading file: /DATACENTER/2/Dataset/caltec256/layer7/182.self-propelled-lawn-mower \r",
        "Loading file: /DATACENTER/2/Dataset/caltec256/layer7/158.penguin \r",
        "Loading file: /DATACENTER/2/Dataset/caltec256/layer7/200.stained-glass \r",
        "Loading file: /DATACENTER/2/Dataset/caltec256/layer7/169.radio-telescope \r",
        "Loading file: /DATACENTER/2/Dataset/caltec256/layer7/203.stirrups \r",
        "Loading file: /DATACENTER/2/Dataset/caltec256/layer7/023.bulldozer \r",
        "Loading file: /DATACENTER/2/Dataset/caltec256/layer7/018.bowling-pin "
       ]
      },
      {
       "output_type": "stream",
       "stream": "stdout",
       "text": [
        "\r",
        "Loading file: /DATACENTER/2/Dataset/caltec256/layer7/235.umbrella-101 \r",
        "Loading file: /DATACENTER/2/Dataset/caltec256/layer7/100.hawksbill-101 \r",
        "Loading file: /DATACENTER/2/Dataset/caltec256/layer7/138.mattress \r",
        "Loading file: /DATACENTER/2/Dataset/caltec256/layer7/094.guitar-pick \r",
        "Loading file: /DATACENTER/2/Dataset/caltec256/layer7/137.mars \r",
        "Loading file: /DATACENTER/2/Dataset/caltec256/layer7/041.coffee-mug \r",
        "Loading file: /DATACENTER/2/Dataset/caltec256/layer7/099.harpsichord \r",
        "Loading file: /DATACENTER/2/Dataset/caltec256/layer7/198.spider \r",
        "Loading file: /DATACENTER/2/Dataset/caltec256/layer7/082.galaxy \r",
        "Loading file: /DATACENTER/2/Dataset/caltec256/layer7/021.breadmaker "
       ]
      },
      {
       "output_type": "stream",
       "stream": "stdout",
       "text": [
        "\r",
        "Loading file: /DATACENTER/2/Dataset/caltec256/layer7/248.yarmulke \r",
        "Loading file: /DATACENTER/2/Dataset/caltec256/layer7/020.brain-101 \r",
        "Loading file: /DATACENTER/2/Dataset/caltec256/layer7/251.airplanes-101 \r",
        "Loading file: /DATACENTER/2/Dataset/caltec256/layer7/022.buddha-101 \r",
        "Loading file: /DATACENTER/2/Dataset/caltec256/layer7/134.llama-101 \r",
        "Loading file: /DATACENTER/2/Dataset/caltec256/layer7/161.photocopier \r",
        "Loading file: /DATACENTER/2/Dataset/caltec256/layer7/029.cannon \r",
        "Loading file: /DATACENTER/2/Dataset/caltec256/layer7/108.hot-dog \r",
        "Loading file: /DATACENTER/2/Dataset/caltec256/layer7/087.goldfish "
       ]
      },
      {
       "output_type": "stream",
       "stream": "stdout",
       "text": [
        "\r",
        "Loading file: /DATACENTER/2/Dataset/caltec256/layer7/206.sushi \r",
        "Loading file: /DATACENTER/2/Dataset/caltec256/layer7/038.chimp \r",
        "Loading file: /DATACENTER/2/Dataset/caltec256/layer7/034.centipede \r",
        "Loading file: /DATACENTER/2/Dataset/caltec256/layer7/170.rainbow \r",
        "Loading file: /DATACENTER/2/Dataset/caltec256/layer7/228.triceratops \r",
        "Loading file: /DATACENTER/2/Dataset/caltec256/layer7/148.mussels \r",
        "Loading file: /DATACENTER/2/Dataset/caltec256/layer7/167.pyramid \r",
        "Loading file: /DATACENTER/2/Dataset/caltec256/layer7/213.teddy-bear \r",
        "Loading file: /DATACENTER/2/Dataset/caltec256/layer7/080.frog \r",
        "Loading file: /DATACENTER/2/Dataset/caltec256/layer7/057.dolphin-101 "
       ]
      },
      {
       "output_type": "stream",
       "stream": "stdout",
       "text": [
        "\r",
        "Loading file: /DATACENTER/2/Dataset/caltec256/layer7/225.tower-pisa \r",
        "Loading file: /DATACENTER/2/Dataset/caltec256/layer7/220.toaster \r",
        "Loading file: /DATACENTER/2/Dataset/caltec256/layer7/008.bathtub \r",
        "Loading file: /DATACENTER/2/Dataset/caltec256/layer7/129.leopards-101 \r",
        "Loading file: /DATACENTER/2/Dataset/caltec256/layer7/223.top-hat \r",
        "Loading file: /DATACENTER/2/Dataset/caltec256/layer7/050.covered-wagon \r",
        "Loading file: /DATACENTER/2/Dataset/caltec256/layer7/190.snake \r",
        "Loading file: /DATACENTER/2/Dataset/caltec256/layer7/092.grapes \r",
        "Loading file: /DATACENTER/2/Dataset/caltec256/layer7/199.spoon "
       ]
      },
      {
       "output_type": "stream",
       "stream": "stdout",
       "text": [
        "\r",
        "Loading file: /DATACENTER/2/Dataset/caltec256/layer7/244.wheelbarrow \r",
        "Loading file: /DATACENTER/2/Dataset/caltec256/layer7/121.kangaroo-101 \r",
        "Loading file: /DATACENTER/2/Dataset/caltec256/layer7/062.eiffel-tower \r",
        "Loading file: /DATACENTER/2/Dataset/caltec256/layer7/162.picnic-table \r",
        "Loading file: /DATACENTER/2/Dataset/caltec256/layer7/035.cereal-box \r",
        "Loading file: /DATACENTER/2/Dataset/caltec256/layer7/095.hamburger \r",
        "Loading file: /DATACENTER/2/Dataset/caltec256/layer7/116.iguana \r",
        "Loading file: /DATACENTER/2/Dataset/caltec256/layer7/212.teapot \r",
        "Loading file: /DATACENTER/2/Dataset/caltec256/layer7/242.watermelon \r",
        "Loading file: /DATACENTER/2/Dataset/caltec256/layer7/202.steering-wheel \r",
        "Loading file: /DATACENTER/2/Dataset/caltec256/layer7/083.gas-pump "
       ]
      },
      {
       "output_type": "stream",
       "stream": "stdout",
       "text": [
        "\r",
        "Loading file: /DATACENTER/2/Dataset/caltec256/layer7/253.faces-easy-101 \r",
        "Loading file: /DATACENTER/2/Dataset/caltec256/layer7/058.doorknob \r",
        "Loading file: /DATACENTER/2/Dataset/caltec256/layer7/117.ipod \r",
        "Loading file: /DATACENTER/2/Dataset/caltec256/layer7/090.gorilla \r",
        "Loading file: /DATACENTER/2/Dataset/caltec256/layer7/103.hibiscus \r",
        "Loading file: /DATACENTER/2/Dataset/caltec256/layer7/119.jesus-christ \r",
        "Loading file: /DATACENTER/2/Dataset/caltec256/layer7/197.speed-boat \r",
        "Loading file: /DATACENTER/2/Dataset/caltec256/layer7/078.fried-egg \r",
        "Loading file: /DATACENTER/2/Dataset/caltec256/layer7/007.bat \r",
        "Loading file: /DATACENTER/2/Dataset/caltec256/layer7/210.syringe "
       ]
      },
      {
       "output_type": "stream",
       "stream": "stdout",
       "text": [
        "\r",
        "Loading file: /DATACENTER/2/Dataset/caltec256/layer7/079.frisbee \r",
        "Loading file: /DATACENTER/2/Dataset/caltec256/layer7/216.tennis-ball \r",
        "Loading file: /DATACENTER/2/Dataset/caltec256/layer7/222.tombstone \r",
        "Loading file: /DATACENTER/2/Dataset/caltec256/layer7/127.laptop-101 \r",
        "Loading file: /DATACENTER/2/Dataset/caltec256/layer7/044.comet \r",
        "Loading file: /DATACENTER/2/Dataset/caltec256/layer7/231.tripod \r",
        "Loading file: /DATACENTER/2/Dataset/caltec256/layer7/025.cactus \r",
        "Loading file: /DATACENTER/2/Dataset/caltec256/layer7/069.fighter-jet \r",
        "Loading file: /DATACENTER/2/Dataset/caltec256/layer7/230.trilobite-101 \r",
        "Loading file: /DATACENTER/2/Dataset/caltec256/layer7/257.clutter "
       ]
      },
      {
       "output_type": "stream",
       "stream": "stdout",
       "text": [
        "\r",
        "Loading file: /DATACENTER/2/Dataset/caltec256/layer7/146.mountain-bike \r",
        "Loading file: /DATACENTER/2/Dataset/caltec256/layer7/054.diamond-ring \r",
        "Loading file: /DATACENTER/2/Dataset/caltec256/layer7/130.license-plate \r",
        "Loading file: /DATACENTER/2/Dataset/caltec256/layer7/061.dumb-bell \r",
        "Loading file: /DATACENTER/2/Dataset/caltec256/layer7/039.chopsticks \r",
        "Loading file: /DATACENTER/2/Dataset/caltec256/layer7/012.binoculars \r",
        "Loading file: /DATACENTER/2/Dataset/caltec256/layer7/187.skyscraper "
       ]
      },
      {
       "output_type": "stream",
       "stream": "stdout",
       "text": [
        "\r",
        "Loading file: /DATACENTER/2/Dataset/caltec256/layer7/180.screwdriver \r",
        "Loading file: /DATACENTER/2/Dataset/caltec256/layer7/147.mushroom \r",
        "Loading file: /DATACENTER/2/Dataset/caltec256/layer7/151.ostrich \r",
        "Loading file: /DATACENTER/2/Dataset/caltec256/layer7/178.school-bus \r",
        "Loading file: /DATACENTER/2/Dataset/caltec256/layer7/110.hourglass \r",
        "Loading file: /DATACENTER/2/Dataset/caltec256/layer7/101.head-phones \r",
        "Loading file: /DATACENTER/2/Dataset/caltec256/layer7/017.bowling-ball "
       ]
      },
      {
       "output_type": "stream",
       "stream": "stdout",
       "text": [
        "\r",
        "Loading file: /DATACENTER/2/Dataset/caltec256/layer7/241.waterfall \r",
        "Loading file: /DATACENTER/2/Dataset/caltec256/layer7/179.scorpion-101 \r",
        "Loading file: /DATACENTER/2/Dataset/caltec256/layer7/172.revolver-101 \r",
        "Loading file: /DATACENTER/2/Dataset/caltec256/layer7/070.fire-extinguisher \r",
        "Loading file: /DATACENTER/2/Dataset/caltec256/layer7/236.unicorn \r",
        "Loading file: /DATACENTER/2/Dataset/caltec256/layer7/133.lightning \r",
        "Loading file: /DATACENTER/2/Dataset/caltec256/layer7/091.grand-piano-101 \r",
        "Loading file: /DATACENTER/2/Dataset/caltec256/layer7/084.giraffe \r",
        "Loading file: /DATACENTER/2/Dataset/caltec256/layer7/185.skateboard "
       ]
      },
      {
       "output_type": "stream",
       "stream": "stdout",
       "text": [
        "\r",
        "Loading file: /DATACENTER/2/Dataset/caltec256/layer7/123.ketch-101 \r",
        "Loading file: /DATACENTER/2/Dataset/caltec256/layer7/120.joy-stick \r",
        "Loading file: /DATACENTER/2/Dataset/caltec256/layer7/238.video-projector \r",
        "Loading file: /DATACENTER/2/Dataset/caltec256/layer7/150.octopus \r",
        "Loading file: /DATACENTER/2/Dataset/caltec256/layer7/139.megaphone \r",
        "Loading file: /DATACENTER/2/Dataset/caltec256/layer7/155.paperclip \r",
        "Loading file: /DATACENTER/2/Dataset/caltec256/layer7/154.palm-tree \r",
        "Loading file: /DATACENTER/2/Dataset/caltec256/layer7/104.homer-simpson \r",
        "Loading file: /DATACENTER/2/Dataset/caltec256/layer7/239.washing-machine \r",
        "Loading file: /DATACENTER/2/Dataset/caltec256/layer7/093.grasshopper "
       ]
      },
      {
       "output_type": "stream",
       "stream": "stdout",
       "text": [
        "\r",
        "Loading file: /DATACENTER/2/Dataset/caltec256/layer7/215.telephone-box \r",
        "Loading file: /DATACENTER/2/Dataset/caltec256/layer7/026.cake \r",
        "Loading file: /DATACENTER/2/Dataset/caltec256/layer7/068.fern \r",
        "Loading file: /DATACENTER/2/Dataset/caltec256/layer7/163.playing-card \r",
        "Loading file: /DATACENTER/2/Dataset/caltec256/layer7/042.coffin \r",
        "Loading file: /DATACENTER/2/Dataset/caltec256/layer7/195.soda-can \r",
        "Loading file: /DATACENTER/2/Dataset/caltec256/layer7/003.backpack \r",
        "Loading file: /DATACENTER/2/Dataset/caltec256/layer7/073.fireworks \r",
        "Loading file: /DATACENTER/2/Dataset/caltec256/layer7/188.smokestack \r",
        "Loading file: /DATACENTER/2/Dataset/caltec256/layer7/176.saddle "
       ]
      },
      {
       "output_type": "stream",
       "stream": "stdout",
       "text": [
        "\r",
        "Loading file: /DATACENTER/2/Dataset/caltec256/layer7/131.lightbulb \r",
        "Loading file: /DATACENTER/2/Dataset/caltec256/layer7/016.boom-box \r",
        "Loading file: /DATACENTER/2/Dataset/caltec256/layer7/208.swiss-army-knife \r",
        "Loading file: /DATACENTER/2/Dataset/caltec256/layer7/142.microwave \r",
        "Loading file: /DATACENTER/2/Dataset/caltec256/layer7/048.conch \r",
        "Loading file: /DATACENTER/2/Dataset/caltec256/layer7/247.xylophone \r",
        "Loading file: /DATACENTER/2/Dataset/caltec256/layer7/047.computer-mouse \r",
        "Loading file: /DATACENTER/2/Dataset/caltec256/layer7/255.tennis-shoes \r",
        "Loading file: /DATACENTER/2/Dataset/caltec256/layer7/254.greyhound "
       ]
      },
      {
       "output_type": "stream",
       "stream": "stdout",
       "text": [
        "\r",
        "Loading file: /DATACENTER/2/Dataset/caltec256/layer7/181.segway \r",
        "Loading file: /DATACENTER/2/Dataset/caltec256/layer7/196.spaghetti \r",
        "Loading file: /DATACENTER/2/Dataset/caltec256/layer7/005.baseball-glove \r",
        "Loading file: /DATACENTER/2/Dataset/caltec256/layer7/249.yo-yo "
       ]
      },
      {
       "output_type": "stream",
       "stream": "stdout",
       "text": [
        "\r",
        "Done.\n"
       ]
      }
     ],
     "prompt_number": 11
    },
    {
     "cell_type": "code",
     "collapsed": false,
     "input": [
      "with np.load('{}/QQCaltech256.npz'.format(data_path)) as data:\n",
      "    X_train = data['X_train']\n",
      "    Y_train = data['Y_train']\n",
      "    X_test = data['X_test']\n",
      "    Y_test = data['Y_test']\n",
      "del data"
     ],
     "language": "python",
     "metadata": {},
     "outputs": [],
     "prompt_number": 4
    },
    {
     "cell_type": "heading",
     "level": 2,
     "metadata": {},
     "source": [
      "Normalization: L2"
     ]
    },
    {
     "cell_type": "code",
     "collapsed": true,
     "input": [
      "normalize(X_train, norm='l2', copy=False)\n",
      "normalize(X_test, norm='l2', copy=False)"
     ],
     "language": "python",
     "metadata": {},
     "outputs": []
    },
    {
     "cell_type": "heading",
     "level": 2,
     "metadata": {},
     "source": [
      "Normalization: Square Root L1"
     ]
    },
    {
     "cell_type": "code",
     "collapsed": false,
     "input": [
      "X_train = np.sqrt(normalize(X_train, norm='l1', copy=False))\n",
      "X_test = np.sqrt(normalize(X_test, norm='l1', copy=False))"
     ],
     "language": "python",
     "metadata": {},
     "outputs": []
    },
    {
     "cell_type": "heading",
     "level": 1,
     "metadata": {},
     "source": [
      "Parameter Settings"
     ]
    },
    {
     "cell_type": "code",
     "collapsed": false,
     "input": [
      "def set_params(model):\n",
      "    params = model.params()\n",
      "\n",
      "    gd_param = params.get('gd_param')\n",
      "    if gd_param is not None:\n",
      "        gd_param.verbosity                             = '\\0'\n",
      "        gd_param.show_obj_each_iter                    = False\n",
      "        gd_param.show_learning_rate_each_iter          = False\n",
      "        gd_param.num_of_iter                           = 40\n",
      "        gd_param.optimal_error                         = 0\n",
      "        gd_param.init_learning_rate                    = 0\n",
      "        gd_param.init_learning_rate_try_1st            = 0.1\n",
      "        gd_param.init_learning_rate_try_factor         = 10\n",
      "        gd_param.init_learning_rate_try_subsample_rate = 0.3\n",
      "        gd_param.init_learning_rate_try_min_sample     = 1000\n",
      "\n",
      "    sgd_param = params.get('sgd_param')\n",
      "    if sgd_param is not None:\n",
      "        sgd_param.size_of_batch                        = 50\n",
      "\n",
      "    sd_param = params.get('sd_param')\n",
      "    if sd_param is not None:\n",
      "        sd_param.verbosity                             = '\\2'\n",
      "        sd_param.show_p_each_iter                      = False\n",
      "        sd_param.num_of_trials                         = 2\n",
      "        sd_param.num_of_iter_update_p_per_train        = 100\n",
      "        sd_param.num_of_iter_update_p_per_epoch        = 0\n",
      "        sd_param.num_of_iter_update_p_per_batch        = 0\n",
      "        sd_param.num_of_iter_confirm_converge          = 5\n",
      "\n",
      "    model_param = params.get('model_param')\n",
      "    if model_param is not None:\n",
      "        model_param.regularizor                        = 1e-5\n",
      "        model_param.reg_l1_ratio                       = 0.2\n",
      "        model_param.bias_learning_rate_factor          = 0.05\n",
      "        model_param.init_var_subsample_rate            = 0.5\n",
      "        model_param.init_var_subsample_min             = 2000\n",
      "\n",
      "    tree_param = params.get('tree_param')\n",
      "    if tree_param is not None:\n",
      "        tree_param.min_entropy                         = 0.5\n",
      "        tree_param.max_depth                           = -1\n",
      "        tree_param.min_num_of_samples_per_node         = 20\n",
      "        tree_param.ovr_in_leaves                       = False\n",
      "\n",
      "    forest_param = params.get('forest_param')\n",
      "    if forest_param is not None:\n",
      "        forest_param.num_of_parallel_jobs              = 0\n",
      "        forest_param.bootstrapping                     = False\n",
      "\n",
      "    ovr_param = params.get('ovr_param')\n",
      "    if ovr_param is not None:\n",
      "        ovr_param.update({'alpha'        : model_param.regularizor,\n",
      "                          'class_weight' : 'auto',\n",
      "                          'epsilon'      : 0.1,\n",
      "                          'eta0'         : 0.01,\n",
      "                          'fit_intercept': True,\n",
      "                          'l1_ratio'     : model_param.reg_l1_ratio,\n",
      "                          'learning_rate': 'optimal',\n",
      "                          'loss'         : 'hinge',\n",
      "                          'n_iter'       : gd_param.num_of_iter,\n",
      "                          'n_jobs'       : 1,\n",
      "                          'penalty'      : 'elasticnet',\n",
      "                          'power_t'      : 0.5,\n",
      "                          'random_state' : None,\n",
      "                          'rho'          : None,\n",
      "                          'shuffle'      : True,\n",
      "                          'verbose'      : 0,\n",
      "                          'warm_start'   : False})"
     ],
     "language": "python",
     "metadata": {},
     "outputs": [],
     "prompt_number": 27
    },
    {
     "cell_type": "heading",
     "level": 1,
     "metadata": {},
     "source": [
      "Experiment: SoftLabelForest"
     ]
    },
    {
     "cell_type": "code",
     "collapsed": false,
     "input": [
      "models = []\n",
      "scores = []"
     ],
     "language": "python",
     "metadata": {},
     "outputs": [],
     "prompt_number": 7
    },
    {
     "cell_type": "code",
     "collapsed": false,
     "input": [
      "i_model = -1"
     ],
     "language": "python",
     "metadata": {},
     "outputs": [],
     "prompt_number": 8
    },
    {
     "cell_type": "code",
     "collapsed": false,
     "input": [
      "models.append(SoftLabelForest())"
     ],
     "language": "python",
     "metadata": {},
     "outputs": [],
     "prompt_number": 9
    },
    {
     "cell_type": "code",
     "collapsed": false,
     "input": [
      "models.append(models[i_model][:10])"
     ],
     "language": "python",
     "metadata": {},
     "outputs": []
    },
    {
     "cell_type": "code",
     "collapsed": false,
     "input": [
      "scores.append({'acc_train'           : 0.,\n",
      "               'n_acc_train'         : 0,\n",
      "               'AP_train'            : None,\n",
      "               'mAP_train'           : 0.,\n",
      "               'complexity_train'    : None,\n",
      "               'avg_complexity_train': 0.,\n",
      "               'depths_train'        : None,\n",
      "               'avg_depth_train'     : 0.,\n",
      "               'acc_test'            : 0.,\n",
      "               'n_acc_test'          : 0,\n",
      "               'AP_test'             : None,\n",
      "               'mAP_test'            : 0.,\n",
      "               'complexity_test'     : None,\n",
      "               'avg_complexity_test' : 0.,\n",
      "               'depths_test'         : None,\n",
      "               'avg_depth_test'      : 0.,\n",
      "               'time_train'          : 0.,\n",
      "               'time_test'           : 0.})\n",
      "print 'There are {} models.'.format(len(models))"
     ],
     "language": "python",
     "metadata": {},
     "outputs": [
      {
       "output_type": "stream",
       "stream": "stdout",
       "text": [
        "There are 1 models.\n"
       ]
      }
     ],
     "prompt_number": 10
    },
    {
     "cell_type": "code",
     "collapsed": false,
     "input": [
      "model = models[i_model]\n",
      "score = scores[i_model]\n",
      "set_params(model)"
     ],
     "language": "python",
     "metadata": {},
     "outputs": [],
     "prompt_number": 28
    },
    {
     "cell_type": "code",
     "collapsed": false,
     "input": [
      "print model\n",
      "print\n",
      "print 'Test on training set:\\n' \\\n",
      "      '\\tAcc:\\t{acc_train:%} ({n_acc_train}/{n_train})\\n' \\\n",
      "      '\\tmAP:\\t{mAP_train:%}\\n' \\\n",
      "      '\\tAverage complexity: {avg_complexity_train}\\n' \\\n",
      "      '\\tAverage depth:      {avg_depth_train}\\n' \\\n",
      "      'Test on test set:\\n' \\\n",
      "      '\\tAcc:\\t{acc_test:%} ({n_acc_test}/{n_test})\\n' \\\n",
      "      '\\tmAP:\\t{mAP_test:%}\\n' \\\n",
      "      '\\tAverage complexity: {avg_complexity_test}\\n' \\\n",
      "      '\\tAverage depth:      {avg_depth_test}\\n\\n' \\\n",
      "      'Training time:\\n' \\\n",
      "      '\\t{t_train_h:.0f}h {t_train_m:.0f}m {t_train_s}s\\n\\n' \\\n",
      "      'Test time ({n_train}+{n_test}={n_all} samples):\\n' \\\n",
      "      '\\t{t_test_h:.0f}h {t_test_m:.0f}m {t_test_s}s\\n' \\\n",
      "      '\\tavg: {t_test_avg:f}s per sample' \\\n",
      "      .format(n_train=X_train.shape[0], n_test=X_test.shape[0], n_all=X_train.shape[0]+X_test.shape[0],\n",
      "              t_train_h=score['time_train']//3600, t_train_m=score['time_train']%3600//60, t_train_s=score['time_train']%60,\n",
      "              t_test_h=score['time_test']//3600, t_test_m=score['time_test']%3600//60, t_test_s=score['time_test']%60,\n",
      "              t_test_avg=score['time_test']/(X_train.shape[0]+X_test.shape[0]),\n",
      "              **score)"
     ],
     "language": "python",
     "metadata": {},
     "outputs": [
      {
       "output_type": "stream",
       "stream": "stdout",
       "text": [
        "gd_param.verbosity                             = '\\x00'\n",
        "gd_param.show_obj_each_iter                    = False\n",
        "gd_param.show_learning_rate_each_iter          = False\n",
        "gd_param.num_of_iter                           = 40\n",
        "gd_param.optimal_error                         = 0.0\n",
        "gd_param.init_learning_rate                    = 0.0\n",
        "gd_param.init_learning_rate_try_1st            = 0.10000000149\n",
        "gd_param.init_learning_rate_try_factor         = 10.0\n",
        "gd_param.init_learning_rate_try_subsample_rate = 0.300000011921\n",
        "gd_param.init_learning_rate_try_min_sample     = 1000\n",
        "\n",
        "sgd_param.size_of_batch                        = 50\n",
        "\n",
        "sd_param.verbosity                             = '\\x02'\n",
        "sd_param.show_p_each_iter                      = False\n",
        "sd_param.num_of_trials                         = 2\n",
        "sd_param.num_of_iter_update_p_per_train        = 100\n",
        "sd_param.num_of_iter_update_p_per_epoch        = 0\n",
        "sd_param.num_of_iter_update_p_per_batch        = 0\n",
        "sd_param.num_of_iter_confirm_converge          = 5\n",
        "\n",
        "model_param.regularizor                        = 9.99999974738e-06\n",
        "model_param.reg_l1_ratio                       = 0.20000000298\n",
        "model_param.bias_learning_rate_factor          = 0.0500000007451\n",
        "model_param.init_var_subsample_rate            = 0.5\n",
        "model_param.init_var_subsample_min             = 2000.0\n",
        "\n",
        "tree_param.min_entropy                         = 0.5\n",
        "tree_param.max_depth                           = -1\n",
        "tree_param.min_num_of_samples_per_node         = 20\n",
        "tree_param.ovr_in_leaves                       = False\n",
        "\n",
        "forest_param.num_of_parallel_jobs              = 0\n",
        "forest_param.bootstrapping                     = False\n",
        "\n",
        "ovr_param.update( {'n_jobs': 1, 'shuffle': True, 'verbose': 0, 'class_weight': 'auto', 'fit_intercept': True, 'penalty': 'elasticnet', 'random_state': None, 'n_iter': 40, 'epsilon': 0.1, 'learning_rate': 'optimal', 'rho': None, 'alpha': 9.999999747378752e-06, 'warm_start': False, 'loss': 'hinge', 'eta0': 0.01, 'l1_ratio': 0.20000000298023224, 'power_t': 0.5} )\n",
        "\n",
        "There are 0 trees in this forest.\n",
        "\n",
        "Test on training set:\n",
        "\tAcc:\t0.000000% (0/12850)\n",
        "\tmAP:\t0.000000%\n",
        "\tAverage complexity: 0.0\n",
        "\tAverage depth:      0.0\n",
        "Test on test set:\n",
        "\tAcc:\t0.000000% (0/7710)\n",
        "\tmAP:\t0.000000%\n",
        "\tAverage complexity: 0.0\n",
        "\tAverage depth:      0.0\n",
        "\n",
        "Training time:\n",
        "\t0h 0m 0.0s\n",
        "\n",
        "Test time (12850+7710=20560 samples):\n",
        "\t0h 0m 0.0s\n",
        "\tavg: 0.000000s per sample\n"
       ]
      }
     ],
     "prompt_number": 29
    },
    {
     "cell_type": "heading",
     "level": 2,
     "metadata": {},
     "source": [
      "Training"
     ]
    },
    {
     "cell_type": "code",
     "collapsed": false,
     "input": [
      "t = time()\n",
      "model.train(X_train, Y_train, num_of_trees=1, verbosity=1)\n",
      "t = time() - t\n",
      "score.update({'time_train': t})"
     ],
     "language": "python",
     "metadata": {},
     "outputs": [
      {
       "output_type": "stream",
       "stream": "stdout",
       "text": [
        "\r",
        "Training SoftLabelTree 1/1.\n"
       ]
      }
     ],
     "prompt_number": 11
    },
    {
     "cell_type": "heading",
     "level": 2,
     "metadata": {},
     "source": [
      "Testing"
     ]
    },
    {
     "cell_type": "code",
     "collapsed": true,
     "input": [
      "t = time()\n",
      "Y_predict_train, AP_train, complexity_train, depths_train = model.test(X_train, Y_train, return_complexity=True, return_depth=True, verbosity=1)\n",
      "Y_predict_test, AP_test, complexity_test, depths_test = model.test(X_test, Y_test, return_complexity=True, return_depth=True, verbosity=1)\n",
      "t = time() - t\n",
      "n_acc_train = np.count_nonzero(Y_predict_train == Y_train)\n",
      "n_acc_test = np.count_nonzero(Y_predict_test == Y_test)\n",
      "\n",
      "score.update({'acc_train'           : float(n_acc_train)/Y_predict_train.shape[0],\n",
      "              'n_acc_train'         : n_acc_train,\n",
      "              'AP_train'            : AP_train,\n",
      "              'mAP_train'           : np.mean(AP_train),\n",
      "              'complexity_train'    : complexity_train,\n",
      "              'avg_complexity_train': np.mean(complexity_train),\n",
      "              'depths_train'        : depths_train,\n",
      "              'avg_depth_train'     : np.mean(depths_train),\n",
      "              'acc_test'            : float(n_acc_test)/Y_predict_test.shape[0],  \n",
      "              'n_acc_test'          : n_acc_test,\n",
      "              'AP_test'             : AP_test,\n",
      "              'mAP_test'            : np.mean(AP_test),\n",
      "              'complexity_test'     : complexity_test,\n",
      "              'avg_complexity_test' : np.mean(complexity_test),\n",
      "              'depths_test'         : depths_test,\n",
      "              'avg_depth_test'      : np.mean(depths_test),\n",
      "              'time_test'           : t})"
     ],
     "language": "python",
     "metadata": {},
     "outputs": [
      {
       "output_type": "stream",
       "stream": "stdout",
       "text": [
        "\r",
        "Testing SoftLabelTree 1/1. "
       ]
      },
      {
       "output_type": "stream",
       "stream": "stdout",
       "text": [
        "\r",
        "Testing SoftLabelTree 1/1.\n"
       ]
      }
     ],
     "prompt_number": 12
    },
    {
     "cell_type": "code",
     "collapsed": false,
     "input": [
      "hf = Qplot.classification(model.test, X, Y)"
     ],
     "language": "python",
     "metadata": {},
     "outputs": [
      {
       "metadata": {},
       "output_type": "display_data",
       "png": "[encoded data removed]",
       "text": [
        "<matplotlib.figure.Figure at 0x7f8478302b90>"
       ]
      }
     ],
     "prompt_number": 13
    },
    {
     "cell_type": "code",
     "collapsed": true,
     "input": [
      "for i in model:\n",
      "    hf = Qplot.classification(i.test, X, Y)"
     ],
     "language": "python",
     "metadata": {},
     "outputs": []
    },
    {
     "cell_type": "heading",
     "level": 1,
     "metadata": {},
     "source": [
      "\n",
      "* All Junk Down There *\n"
     ]
    },
    {
     "cell_type": "heading",
     "level": 1,
     "metadata": {},
     "source": [
      "Experiment: Single SoftLabelTree"
     ]
    },
    {
     "cell_type": "heading",
     "level": 2,
     "metadata": {},
     "source": [
      "Model Management"
     ]
    },
    {
     "cell_type": "code",
     "collapsed": false,
     "input": [
      "sltrees = []\n",
      "scores = []"
     ],
     "language": "python",
     "metadata": {},
     "outputs": []
    },
    {
     "cell_type": "code",
     "collapsed": false,
     "input": [
      "sltrees.append(SoftLabelTree())\n",
      "scores.append({'acc_train':0., 'n_acc_train':0, 'AP_train':None, 'mAP_train':0., \n",
      "               'complexity_train':None, 'avg_complexity_train':0.,\n",
      "               'depths_train':None, 'avg_depth_train':0.,\n",
      "               'acc_test':0.,  'n_acc_test':0,  'AP_test':None, 'mAP_test':0.,\n",
      "               'complexity_test':None, 'avg_complexity_test':0.,\n",
      "               'depths_test':None,  'avg_depth_test':0.,\n",
      "               'time_train':0., 'time_test':0.})"
     ],
     "language": "python",
     "metadata": {},
     "outputs": []
    },
    {
     "cell_type": "code",
     "collapsed": false,
     "input": [
      "sltrees.append(SoftLabelTree(sltrees[i_tree]))\n",
      "scores.append(score.copy())"
     ],
     "language": "python",
     "metadata": {},
     "outputs": []
    },
    {
     "cell_type": "code",
     "collapsed": false,
     "input": [
      "print 'There are {} trees.'.format(len(sltrees))"
     ],
     "language": "python",
     "metadata": {},
     "outputs": []
    },
    {
     "cell_type": "code",
     "collapsed": false,
     "input": [
      "i_tree = -1\n",
      "sltree = sltrees[i_tree]\n",
      "score = scores[i_tree]\n",
      "set_params(sltree)\n",
      "print sltree, '\\n\\n'\n",
      "print 'Test on training set:\\n' \\\n",
      "      '\\tAcc:\\t{acc_train:%} ({n_acc_train}/{n_train})\\n' \\\n",
      "      '\\tmAP:\\t{mAP_train:%}\\n' \\\n",
      "      '\\tAverage complexity: {avg_complexity_train}\\n' \\\n",
      "      '\\tAverage depth:      {avg_depth_train}\\n' \\\n",
      "      'Test on test set:\\n' \\\n",
      "      '\\tAcc:\\t{acc_test:%} ({n_acc_test}/{n_test})\\n' \\\n",
      "      '\\tmAP:\\t{mAP_test:%}\\n' \\\n",
      "      '\\tAverage complexity: {avg_complexity_test}\\n' \\\n",
      "      '\\tAverage depth:      {avg_depth_test}\\n\\n' \\\n",
      "      'Training time:\\n' \\\n",
      "      '\\t{t_train_h:.0f}h {t_train_m:.0f}m {t_train_s}s\\n\\n' \\\n",
      "      'Test time ({n_train}+{n_test}={n_all} samples):\\n' \\\n",
      "      '\\t{t_test_h:.0f}h {t_test_m:.0f}m {t_test_s}s\\n' \\\n",
      "      '\\tavg: {t_test_avg:f}s per sample' \\\n",
      "      .format(n_train=X_train.shape[0], n_test=X_test.shape[0], n_all=X_train.shape[0]+X_test.shape[0],\n",
      "              t_train_h=score['time_train']//3600, t_train_m=score['time_train']%3600//60, t_train_s=score['time_train']%60,\n",
      "              t_test_h=score['time_test']//3600, t_test_m=score['time_test']%3600//60, t_test_s=score['time_test']%60,\n",
      "              t_test_avg=score['time_test']/(X_train.shape[0]+X_test.shape[0]),\n",
      "              **score)"
     ],
     "language": "python",
     "metadata": {},
     "outputs": []
    },
    {
     "cell_type": "heading",
     "level": 2,
     "metadata": {},
     "source": [
      "Training"
     ]
    },
    {
     "cell_type": "code",
     "collapsed": true,
     "input": [
      "t_train_begin = time()\n",
      "sltree.train(X_train, Y_train, 1)\n",
      "t_train_end = time()\n",
      "score.update({'time_train':t_train_end-t_train_begin})"
     ],
     "language": "python",
     "metadata": {},
     "outputs": []
    },
    {
     "cell_type": "code",
     "collapsed": false,
     "input": [
      "def par_train(sltree, score, X_train, Y_train):\n",
      "    set_params(sltree)\n",
      "    t_train_begin = time()\n",
      "    sltree.train(X_train, Y_train)\n",
      "    t_train_end = time()\n",
      "    score.update({'time_train':t_train_end-t_train_begin})\n",
      "    return sltree, score"
     ],
     "language": "python",
     "metadata": {},
     "outputs": []
    },
    {
     "cell_type": "code",
     "collapsed": false,
     "input": [
      "def go():\n",
      "    n_jobs = 4\n",
      "    n_trees = 4\n",
      "\n",
      "    sltrees = [SoftLabelTree() for i in xrange(n_trees)]\n",
      "    scores = [{'acc_train':0., 'n_acc_train':0, 'AP_train':None, 'mAP_train':0.,\n",
      "               'complexity_train':None, 'avg_complexity_train':0.,\n",
      "               'depths_train':None, 'avg_depth_train':0.,\n",
      "               'acc_test':0.,  'n_acc_test':0,  'AP_test':None, 'mAP_test':0.,\n",
      "               'complexity_test':None, 'avg_complexity_test':0.,\n",
      "               'depths_test':None,  'avg_depth_test':0.,\n",
      "               'time_train':0., 'time_test':0.} for i in xrange(n_trees)]\n",
      "    result = Parallel(n_jobs=n_jobs, verbose=1)(delayed(par_train)(sltree, score, X_train, Y_train)\n",
      "                                                for sltree, score in zip(sltrees, scores))"
     ],
     "language": "python",
     "metadata": {},
     "outputs": []
    },
    {
     "cell_type": "code",
     "collapsed": false,
     "input": [
      "go()"
     ],
     "language": "python",
     "metadata": {},
     "outputs": []
    },
    {
     "cell_type": "heading",
     "level": 2,
     "metadata": {},
     "source": [
      "Testing"
     ]
    },
    {
     "cell_type": "code",
     "collapsed": false,
     "input": [
      "t_test_begin = time()\n",
      "Y_predict_train, AP_train, complexity_train, depths_train = sltree.test(X_train, Y_train, return_complexity=True, return_depth=True)\n",
      "Y_predict_test, AP_test, complexity_test, depths_test = sltree.test(X_test, Y_test, return_complexity=True, return_depth=True)\n",
      "t_test_end = time()\n",
      "n_acc_train = np.count_nonzero(Y_predict_train == Y_train)\n",
      "n_acc_test = np.count_nonzero(Y_predict_test == Y_test)\n",
      "\n",
      "score.update({'acc_train':float(n_acc_train)/Y_predict_train.shape[0],\n",
      "              'n_acc_train':n_acc_train,\n",
      "              'AP_train':AP_train,\n",
      "              'mAP_train':np.mean(AP_train),\n",
      "              'complexity_train':complexity_train,\n",
      "              'avg_complexity_train':np.mean(complexity_train),\n",
      "              'depths_train':depths_train,\n",
      "              'avg_depth_train':np.mean(depths_train),\n",
      "              'acc_test':float(n_acc_test)/Y_predict_test.shape[0],  \n",
      "              'n_acc_test':n_acc_test,\n",
      "              'AP_test':AP_test,\n",
      "              'mAP_test':np.mean(AP_test),\n",
      "              'complexity_test':complexity_test,\n",
      "              'avg_complexity_test':np.mean(complexity_test),\n",
      "              'depths_test':depths_test,\n",
      "              'avg_depth_test':np.mean(depths_test),\n",
      "              'time_test':t_test_end-t_test_begin})"
     ],
     "language": "python",
     "metadata": {},
     "outputs": []
    },
    {
     "cell_type": "code",
     "collapsed": true,
     "input": [
      "t_train_begin = time()\n",
      "sltree.continue_train(X_train, Y_train)\n",
      "t_train_end = time()\n",
      "score.update({'time_train':t_train_end-t_train_begin})"
     ],
     "language": "python",
     "metadata": {},
     "outputs": []
    },
    {
     "cell_type": "code",
     "collapsed": true,
     "input": [
      "%time sltree.continue_train(X_train, Y_train)"
     ],
     "language": "python",
     "metadata": {},
     "outputs": []
    },
    {
     "cell_type": "code",
     "collapsed": true,
     "input": [
      "sltree.train(X, Y)"
     ],
     "language": "python",
     "metadata": {},
     "outputs": []
    },
    {
     "cell_type": "code",
     "collapsed": true,
     "input": [
      "sltree.continue_train(X, Y)"
     ],
     "language": "python",
     "metadata": {},
     "outputs": []
    },
    {
     "cell_type": "code",
     "collapsed": false,
     "input": [
      "Y_predict_proba_train = sltree.test_proba(X_train)\n",
      "Y_predict_train = sltree.test(Y=Y_predict_proba_train)\n",
      "Y_predict_proba_test = sltree.test_proba(X_test)\n",
      "Y_predict_test = sltree.test(Y=Y_predict_proba_test)\n",
      "AP_train = np.ndarray(num_of_labels)\n",
      "AP_test = np.ndarray(num_of_labels)\n",
      "for i_label in xrange(num_of_labels):\n",
      "    AP_train[i_label] = average_precision_score(Y_truth_train[:, i_label], Y_predict_proba_train[:, i_label])\n",
      "    AP_test[i_label] = average_precision_score(Y_truth_test[:, i_label], Y_predict_proba_test[:, i_label])\n",
      "mAP_train = np.mean(AP_train)\n",
      "mAP_test = np.mean(AP_test)\n",
      "\n",
      "n_acc_train = np.count_nonzero(Y_predict_train == Y_train)\n",
      "n_acc_test = np.count_nonzero(Y_predict_test == Y_test)\n",
      "acc_train = float(n_acc_train) / Y_predict_train.shape[0]\n",
      "acc_test = float(n_acc_test) / Y_predict_test.shape[0]\n",
      "print 'Train: Acc = {:%} ({}/{}), mAP = {:%}'.format(acc_train, n_acc_train, Y_predict_train.shape[-1], mAP_train)\n",
      "print 'Test : Acc = {:%} ({}/{}), mAP = {:%}'.format(acc_test, n_acc_test, Y_predict_test.shape[-1], mAP_test)"
     ],
     "language": "python",
     "metadata": {},
     "outputs": []
    },
    {
     "cell_type": "code",
     "collapsed": false,
     "input": [
      "autoreload"
     ],
     "language": "python",
     "metadata": {},
     "outputs": []
    },
    {
     "cell_type": "code",
     "collapsed": false,
     "input": [
      "%%time\n",
      "\n",
      "Y_predict_proba_train = sltree.test_proba(X_train)\n",
      "Y_predict_train = sltree.test(Y=Y_predict_proba_train)\n",
      "Y_predict_proba_test = sltree.test_proba(X_test)\n",
      "Y_predict_test = sltree.test(Y=Y_predict_proba_test)\n",
      "AP_train = np.ndarray(num_of_labels)\n",
      "AP_test = np.ndarray(num_of_labels)\n",
      "for i_label in xrange(num_of_labels):\n",
      "    AP_train[i_label] = average_precision_score(Y_truth_train[:, i_label], Y_predict_proba_train[:, i_label])\n",
      "    AP_test[i_label] = average_precision_score(Y_truth_test[:, i_label], Y_predict_proba_test[:, i_label])\n",
      "mAP_train = np.mean(AP_train)\n",
      "mAP_test = np.mean(AP_test)\n",
      "\n",
      "n_acc_train = np.nonzero(Y_predict_train == Y_train)[0].shape[0]\n",
      "n_acc_test = np.nonzero(Y_predict_test == Y_test)[0].shape[0]\n",
      "acc_train = float(n_acc_train) / Y_predict_train.shape[0]\n",
      "acc_test = float(n_acc_test) / Y_predict_test.shape[0]\n",
      "print 'Train: Acc = {:%} ({}/{}), mAP = {:%}'.format(acc_train, n_acc_train, Y_predict_train.shape[-1], mAP_train)\n",
      "print 'Test : Acc = {:%} ({}/{}), mAP = {:%}'.format(acc_test, n_acc_test, Y_predict_test.shape[-1], mAP_test)"
     ],
     "language": "python",
     "metadata": {},
     "outputs": []
    },
    {
     "cell_type": "code",
     "collapsed": false,
     "input": [
      "SGDClassifier?"
     ],
     "language": "python",
     "metadata": {},
     "outputs": []
    },
    {
     "cell_type": "code",
     "collapsed": false,
     "input": [
      "ex(2).prefix = 'fv-sp' ;\n",
      "ex(2).trainOpts = {'C', 10} ;\n",
      "ex(2).datasets = {'caltech256'} ;\n",
      "ex(2).seed = 1 ;\n",
      "ex(2).opts = {...\n",
      "  'type', 'fv', ...\n",
      "  'numWords', 256, ...\n",
      "  'layouts', {'1x1', '2x2'}, ...\n",
      "  'geometricExtension', 'none', ...\n",
      "  'numPcaDimensions', 80, ...\n",
      "  'extractorFn', @(x) getDenseSIFT(x, ...\n",
      "                                   'step', 4, ...\n",
      "                                   'scales', 2.^(0:-.5:-3))};\n",
      "\n",
      "% traintest\n",
      "traintest(...\n",
      "      'prefix', 'ex-caltech256-fv-sp', ...\n",
      "      'seed', 1, ...\n",
      "      'dataset', 'caltech256', ...\n",
      "      'datasetDir', 'data/caltech256', ...\n",
      "      'lite', false, ...\n",
      "      ex(i).trainOpts{:}, ...\n",
      "      'encoderParams', ex(i).opts) ;\n",
      "\n",
      "opts.dataset = 'caltech256' ;\n",
      "opts.prefix = 'ex-caltech256-fv-sp' ;\n",
      "opts.encoderParams = {...\n",
      "  'type', 'fv', ...\n",
      "  'numWords', 256, ...\n",
      "  'layouts', {'1x1', '2x2'}, ...\n",
      "  'geometricExtension', 'none', ...\n",
      "  'numPcaDimensions', 80, ...\n",
      "  'extractorFn', @(x) getDenseSIFT(x, ...\n",
      "                                   'step', 4, ...\n",
      "                                   'scales', 2.^(0:-.5:-3))};\n",
      "opts.seed = 1 ;\n",
      "opts.lite = false ;\n",
      "opts.C = 10 ;\n",
      "opts.kernel = 'linear' ;\n",
      "opts.dataDir = 'data';\n",
      "opts.datasetDir = 'data/caltech256';\n",
      "opts.resultDir = 'data/ex-caltech256-fv-sp';\n",
      "opts.imdbPath = fullfile(opts.resultDir, 'imdb.mat') ;\n",
      "opts.encoderPath = fullfile(opts.resultDir, 'encoder.mat') ;\n",
      "opts.modelPath = fullfile(opts.resultDir, 'model.mat') ;\n",
      "opts.diaryPath = fullfile(opts.resultDir, 'diary.txt') ;\n",
      "opts.cacheDir = fullfile(opts.resultDir, 'cache') ;\n",
      "\n",
      "% setup\n",
      "opts.numTrain = 30 ;\n",
      "opts.numVal = 0\n",
      "opts.numTest = 25 ;\n",
      "opts.expectedNumClasses = 257;\n",
      "opts.seed = 1;\n",
      "opts.lite = false;"
     ],
     "language": "python",
     "metadata": {},
     "outputs": []
    },
    {
     "cell_type": "code",
     "collapsed": false,
     "input": [
      "hf = Qplot.classification(sltree.test, X, Y)"
     ],
     "language": "python",
     "metadata": {},
     "outputs": []
    },
    {
     "cell_type": "code",
     "collapsed": false,
     "input": [
      "hf = Qplot.classification(sltree_unpickled.test, X, Y)"
     ],
     "language": "python",
     "metadata": {},
     "outputs": []
    },
    {
     "cell_type": "code",
     "collapsed": false,
     "input": [
      "hf = Qplot.classification(sltree.test, X, Y)"
     ],
     "language": "python",
     "metadata": {},
     "outputs": []
    },
    {
     "cell_type": "code",
     "collapsed": false,
     "input": [
      "hf = Qplot.classification(sltree.test, X, Y)"
     ],
     "language": "python",
     "metadata": {},
     "outputs": []
    },
    {
     "cell_type": "code",
     "collapsed": false,
     "input": [
      "colors = 'bry'\n",
      "cs = contourf(xx, yy, Z, cmap=cm.Paired)\n",
      "axis('tight')\n",
      "\n",
      "# Plot also the training points\n",
      "for i, color in zip(clf.classes_, colors):\n",
      "    idx = where(Y == i)\n",
      "    scatter(X[idx, 0], X[idx, 1], c=color, cmap=cm.Paired)\n",
      "title(\"Decision surface of multi-class SGD\")\n",
      "axis('tight')\n",
      "\n",
      "# Plot the three one-against-all classifiers\n",
      "xmin, xmax = xlim()\n",
      "ymin, ymax = ylim()\n",
      "coef = clf.coef_\n",
      "intercept = clf.intercept_\n",
      "\n",
      "\n",
      "def plot_hyperplane(c, color):\n",
      "    def line(x0):\n",
      "        return (-(x0 * coef[c, 0]) - intercept[c]) / coef[c, 1]\n",
      "\n",
      "    plot([xmin, xmax], [line(xmin), line(xmax)], ls=\"--\", color=color)\n",
      "\n",
      "for i, color in zip(clf.classes_, colors):\n",
      "    plot_hyperplane(i, color)\n",
      "legend()\n",
      "show()"
     ],
     "language": "python",
     "metadata": {},
     "outputs": []
    },
    {
     "cell_type": "code",
     "collapsed": false,
     "input": [
      "%load Q.py"
     ],
     "language": "python",
     "metadata": {},
     "outputs": []
    },
    {
     "cell_type": "code",
     "collapsed": false,
     "input": [
      "%connect_info"
     ],
     "language": "python",
     "metadata": {},
     "outputs": []
    }
   ],
   "metadata": {}
  }
 ]
}