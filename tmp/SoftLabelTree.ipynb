{
 "metadata": {
  "name": "",
  "signature": "sha256:98c5de0fae4b25a11399564a287acd80d3418a48faa1cc51c02f4c618da46491"
 },
 "nbformat": 3,
 "nbformat_minor": 0,
 "worksheets": [
  {
   "cells": [
    {
     "cell_type": "heading",
     "level": 1,
     "metadata": {},
     "source": [
      "Environment Settings"
     ]
    },
    {
     "cell_type": "code",
     "collapsed": true,
     "input": [
      "from matplotlib import pyplot as plt\n",
      "%matplotlib inline\n",
      "%load_ext autoreload"
     ],
     "language": "python",
     "metadata": {},
     "outputs": []
    },
    {
     "cell_type": "code",
     "collapsed": true,
     "input": [
      "import pickle\n",
      "import numpy as np\n",
      "import scipy.io as sio\n",
      "import os\n",
      "import Qplot\n",
      "import SoftLabelTree\n",
      "import SoftDecisionModel\n",
      "from time import time\n",
      "from SoftDecisionModel import Data, SoftDecisionModel, SoftDecisionSolver\n",
      "from SoftLabelTree import SoftLabelTree, SoftLabelForest\n",
      "from sklearn.linear_model import SGDClassifier\n",
      "from sklearn.preprocessing import normalize\n",
      "from sklearn.metrics import average_precision_score, accuracy_score\n",
      "from joblib import Parallel, delayed\n",
      "\n",
      "os.environ['PYTHONUNBUFFERED'] = '1'\n",
      "# os.environ['OMP_NUM_THREADS'] = '32'"
     ],
     "language": "python",
     "metadata": {},
     "outputs": []
    },
    {
     "cell_type": "heading",
     "level": 1,
     "metadata": {},
     "source": [
      "Data"
     ]
    },
    {
     "cell_type": "heading",
     "level": 2,
     "metadata": {},
     "source": [
      "Toy Data"
     ]
    },
    {
     "cell_type": "code",
     "collapsed": true,
     "input": [
      "data = sio.loadmat('../dat/data5.mat')\n",
      "X = data['X'].astype(np.double).T\n",
      "Y = data['Y'].astype(np.int32).ravel()\n",
      "X_train = X\n",
      "X_test = X\n",
      "Y_train = Y\n",
      "Y_test = Y"
     ],
     "language": "python",
     "metadata": {},
     "outputs": []
    },
    {
     "cell_type": "heading",
     "level": 2,
     "metadata": {},
     "source": [
      "Caltech-256"
     ]
    },
    {
     "cell_type": "code",
     "collapsed": false,
     "input": [
      "data_path = '../../vlfeat-0.9.17/apps/recognition/data/ex-caltech256-fv-sp'\n",
      "sample_dimension = 204800\n",
      "\n",
      "X = np.ndarray((0, sample_dimension), dtype=np.double)\n",
      "i_chunk = 1\n",
      "next_file_path = '{}/cache/chunk-{:03d}.mat'.format(data_path, i_chunk)\n",
      "while os.path.exists(next_file_path):\n",
      "    print '\\rLoading file:', next_file_path,\n",
      "    X = np.r_[X, sio.loadmat(next_file_path)['data'].astype(np.double).T]\n",
      "    i_chunk += 1\n",
      "    next_file_path = '{}/cache/chunk-{:03d}.mat'.format(data_path, i_chunk)\n",
      "_imdb = sio.loadmat(data_path+'/imdb.mat', squeeze_me=True)\n",
      "Y = _imdb['images']['class'][()].astype(np.int32)\n",
      "S = _imdb['images']['set'][()]\n",
      "print '\\rDone.', \n",
      "X_train = X[S==1, :]\n",
      "Y_train = Y[S==1]\n",
      "X_test = X[S==3, :]\n",
      "Y_test = Y[S==3]\n",
      "del i_chunk, next_file_path, _imdb"
     ],
     "language": "python",
     "metadata": {},
     "outputs": []
    },
    {
     "cell_type": "code",
     "collapsed": false,
     "input": [
      "del X, Y, S"
     ],
     "language": "python",
     "metadata": {},
     "outputs": []
    },
    {
     "cell_type": "heading",
     "level": 2,
     "metadata": {},
     "source": [
      "Normalization: L2"
     ]
    },
    {
     "cell_type": "code",
     "collapsed": false,
     "input": [
      "normalize(X_train, norm='l2', copy=False)\n",
      "normalize(X_test, norm='l2', copy=False)"
     ],
     "language": "python",
     "metadata": {},
     "outputs": []
    },
    {
     "cell_type": "heading",
     "level": 2,
     "metadata": {},
     "source": [
      "Normalization: Square Root L1"
     ]
    },
    {
     "cell_type": "code",
     "collapsed": true,
     "input": [
      "X_train = np.sqrt(normalize(X_train, norm='l1', copy=False))\n",
      "X_test = np.sqrt(normalize(X_test, norm='l1', copy=False))"
     ],
     "language": "python",
     "metadata": {},
     "outputs": []
    },
    {
     "cell_type": "heading",
     "level": 1,
     "metadata": {},
     "source": [
      "Parameter Settings"
     ]
    },
    {
     "cell_type": "code",
     "collapsed": true,
     "input": [
      "def set_params(model):\n",
      "    params = model.params()\n",
      "\n",
      "    gd_param = params['gd_param']\n",
      "    gd_param.verbosity                             = '\\0'\n",
      "    gd_param.show_obj_each_iter                    = False\n",
      "    gd_param.show_learning_rate_each_iter          = False\n",
      "    gd_param.num_of_iter                           = 40\n",
      "    gd_param.optimal_error                         = 0\n",
      "    gd_param.init_learning_rate                    = 0\n",
      "    gd_param.init_learning_rate_try_1st            = 0.1\n",
      "    gd_param.init_learning_rate_try_factor         = 10\n",
      "    gd_param.init_learning_rate_try_subsample_rate = 0.3\n",
      "    gd_param.init_learning_rate_try_min_sample     = 1000\n",
      "\n",
      "    sgd_param = params['sgd_param']\n",
      "    sgd_param.size_of_batch                        = 50\n",
      "\n",
      "    sd_param = params['sd_param']\n",
      "    sd_param.verbosity                             = '\\0'\n",
      "    sd_param.show_p_each_iter                      = False\n",
      "    sd_param.num_of_trials                         = 2\n",
      "    sd_param.num_of_iter_update_p_per_train        = 100\n",
      "    sd_param.num_of_iter_update_p_per_epoch        = 0\n",
      "    sd_param.num_of_iter_update_p_per_batch        = 0\n",
      "    sd_param.num_of_iter_confirm_converge          = 5\n",
      "\n",
      "    model_param = params['model_param']\n",
      "    model_param.regularizor                        = 1e-5\n",
      "    model_param.reg_l1_ratio                       = 0.1\n",
      "    model_param.bias_learning_rate_factor          = 0.05\n",
      "    model_param.init_var_subsample_rate            = 0.5\n",
      "    model_param.init_var_subsample_min             = 2000\n",
      "\n",
      "    tree_param = params['tree_param']\n",
      "    tree_param.min_entropy                         = 0.5\n",
      "    tree_param.max_depth                           = -1\n",
      "    tree_param.min_num_of_samples_per_node         = 20\n",
      "    tree_param.ovr_in_leaves                       = False\n",
      "\n",
      "    ovr_param = params['ovr_param']\n",
      "    ovr_param.update({'alpha'        : model_param.regularizor,\n",
      "                      'class_weight' : 'auto',\n",
      "                      'epsilon'      : 0.1,\n",
      "                      'eta0'         : 0.01,\n",
      "                      'fit_intercept': True,\n",
      "                      'l1_ratio'     : model_param.reg_l1_ratio,\n",
      "                      'learning_rate': 'optimal',\n",
      "                      'loss'         : 'hinge',\n",
      "                      'n_iter'       : gd_param.num_of_iter,\n",
      "                      'n_jobs'       : 1,\n",
      "                      'penalty'      : 'elasticnet',\n",
      "                      'power_t'      : 0.5,\n",
      "                      'random_state' : None,\n",
      "                      'rho'          : None,\n",
      "                      'shuffle'      : True,\n",
      "                      'verbose'      : 0,\n",
      "                      'warm_start'   : False})\n",
      "\n",
      "    forest_param = params['forest_param']\n",
      "    forest_param.num_of_parallel_jobs              = 2\n",
      "    forest_param.bootstrapping                     = False"
     ],
     "language": "python",
     "metadata": {},
     "outputs": []
    },
    {
     "cell_type": "heading",
     "level": 1,
     "metadata": {},
     "source": [
      "Experiment: SoftLabelForest"
     ]
    },
    {
     "cell_type": "code",
     "collapsed": true,
     "input": [
      "models = []\n",
      "scores = []"
     ],
     "language": "python",
     "metadata": {},
     "outputs": []
    },
    {
     "cell_type": "code",
     "collapsed": true,
     "input": [
      "i_model = -1"
     ],
     "language": "python",
     "metadata": {},
     "outputs": []
    },
    {
     "cell_type": "code",
     "collapsed": true,
     "input": [
      "models.append(SoftLabelForest())"
     ],
     "language": "python",
     "metadata": {},
     "outputs": []
    },
    {
     "cell_type": "code",
     "collapsed": true,
     "input": [
      "models.append(models[i_model][:10])"
     ],
     "language": "python",
     "metadata": {},
     "outputs": []
    },
    {
     "cell_type": "code",
     "collapsed": true,
     "input": [
      "scores.append({'acc_train'           : 0.,\n",
      "               'n_acc_train'         : 0,\n",
      "               'AP_train'            : None,\n",
      "               'mAP_train'           : 0.,\n",
      "               'complexity_train'    : None,\n",
      "               'avg_complexity_train': 0.,\n",
      "               'depths_train'        : None,\n",
      "               'avg_depth_train'     : 0.,\n",
      "               'acc_test'            : 0.,\n",
      "               'n_acc_test'          : 0,\n",
      "               'AP_test'             : None,\n",
      "               'mAP_test'            : 0.,\n",
      "               'complexity_test'     : None,\n",
      "               'avg_complexity_test' : 0.,\n",
      "               'depths_test'         : None,\n",
      "               'avg_depth_test'      : 0.,\n",
      "               'time_train'          : 0.,\n",
      "               'time_test'           : 0.})\n",
      "print 'There are {} models.'.format(len(models))"
     ],
     "language": "python",
     "metadata": {},
     "outputs": []
    },
    {
     "cell_type": "code",
     "collapsed": true,
     "input": [
      "model = models[i_model]\n",
      "score = scores[i_model]\n",
      "set_params(model)"
     ],
     "language": "python",
     "metadata": {},
     "outputs": []
    },
    {
     "cell_type": "code",
     "collapsed": true,
     "input": [
      "print model\n",
      "print\n",
      "print 'Test on training set:\\n' \\\n",
      "      '\\tAcc:\\t{acc_train:%} ({n_acc_train}/{n_train})\\n' \\\n",
      "      '\\tmAP:\\t{mAP_train:%}\\n' \\\n",
      "      '\\tAverage complexity: {avg_complexity_train}\\n' \\\n",
      "      '\\tAverage depth:      {avg_depth_train}\\n' \\\n",
      "      'Test on test set:\\n' \\\n",
      "      '\\tAcc:\\t{acc_test:%} ({n_acc_test}/{n_test})\\n' \\\n",
      "      '\\tmAP:\\t{mAP_test:%}\\n' \\\n",
      "      '\\tAverage complexity: {avg_complexity_test}\\n' \\\n",
      "      '\\tAverage depth:      {avg_depth_test}\\n\\n' \\\n",
      "      'Training time:\\n' \\\n",
      "      '\\t{t_train_h:.0f}h {t_train_m:.0f}m {t_train_s}s\\n\\n' \\\n",
      "      'Test time ({n_train}+{n_test}={n_all} samples):\\n' \\\n",
      "      '\\t{t_test_h:.0f}h {t_test_m:.0f}m {t_test_s}s\\n' \\\n",
      "      '\\tavg: {t_test_avg:f}s per sample' \\\n",
      "      .format(n_train=X_train.shape[0], n_test=X_test.shape[0], n_all=X_train.shape[0]+X_test.shape[0],\n",
      "              t_train_h=score['time_train']//3600, t_train_m=score['time_train']%3600//60, t_train_s=score['time_train']%60,\n",
      "              t_test_h=score['time_test']//3600, t_test_m=score['time_test']%3600//60, t_test_s=score['time_test']%60,\n",
      "              t_test_avg=score['time_test']/(X_train.shape[0]+X_test.shape[0]),\n",
      "              **score)"
     ],
     "language": "python",
     "metadata": {},
     "outputs": []
    },
    {
     "cell_type": "heading",
     "level": 2,
     "metadata": {},
     "source": [
      "Training"
     ]
    },
    {
     "cell_type": "code",
     "collapsed": true,
     "input": [
      "t = time()\n",
      "model.train(X_train, Y_train, num_of_trees=1, verbosity=1)\n",
      "t = time() - t\n",
      "score.update({'time_train': t})"
     ],
     "language": "python",
     "metadata": {},
     "outputs": []
    },
    {
     "cell_type": "heading",
     "level": 2,
     "metadata": {},
     "source": [
      "Testing"
     ]
    },
    {
     "cell_type": "code",
     "collapsed": false,
     "input": [
      "t = time()\n",
      "Y_predict_train, AP_train, complexity_train, depths_train = model.test(X_train, Y_train, return_complexity=True, return_depth=True, verbosity=1)\n",
      "Y_predict_test, AP_test, complexity_test, depths_test = model.test(X_test, Y_test, return_complexity=True, return_depth=True, verbosity=1)\n",
      "t = time() - t\n",
      "n_acc_train = np.count_nonzero(Y_predict_train == Y_train)\n",
      "n_acc_test = np.count_nonzero(Y_predict_test == Y_test)\n",
      "\n",
      "score.update({'acc_train'           : float(n_acc_train)/Y_predict_train.shape[0],\n",
      "              'n_acc_train'         : n_acc_train,\n",
      "              'AP_train'            : AP_train,\n",
      "              'mAP_train'           : np.mean(AP_train),\n",
      "              'complexity_train'    : complexity_train,\n",
      "              'avg_complexity_train': np.mean(complexity_train),\n",
      "              'depths_train'        : depths_train,\n",
      "              'avg_depth_train'     : np.mean(depths_train),\n",
      "              'acc_test'            : float(n_acc_test)/Y_predict_test.shape[0],  \n",
      "              'n_acc_test'          : n_acc_test,\n",
      "              'AP_test'             : AP_test,\n",
      "              'mAP_test'            : np.mean(AP_test),\n",
      "              'complexity_test'     : complexity_test,\n",
      "              'avg_complexity_test' : np.mean(complexity_test),\n",
      "              'depths_test'         : depths_test,\n",
      "              'avg_depth_test'      : np.mean(depths_test),\n",
      "              'time_test'           : t})"
     ],
     "language": "python",
     "metadata": {},
     "outputs": []
    },
    {
     "cell_type": "code",
     "collapsed": true,
     "input": [
      "hf = Qplot.classification(model.test, X, Y)"
     ],
     "language": "python",
     "metadata": {},
     "outputs": []
    },
    {
     "cell_type": "code",
     "collapsed": false,
     "input": [
      "for i in model:\n",
      "    hf = Qplot.classification(i.test, X, Y)"
     ],
     "language": "python",
     "metadata": {},
     "outputs": []
    },
    {
     "cell_type": "heading",
     "level": 1,
     "metadata": {},
     "source": [
      "Experiment: Single SoftLabelTree"
     ]
    },
    {
     "cell_type": "heading",
     "level": 2,
     "metadata": {},
     "source": [
      "Model Management"
     ]
    },
    {
     "cell_type": "code",
     "collapsed": true,
     "input": [
      "sltrees = []\n",
      "scores = []"
     ],
     "language": "python",
     "metadata": {},
     "outputs": []
    },
    {
     "cell_type": "code",
     "collapsed": true,
     "input": [
      "sltrees.append(SoftLabelTree())\n",
      "scores.append({'acc_train':0., 'n_acc_train':0, 'AP_train':None, 'mAP_train':0., \n",
      "               'complexity_train':None, 'avg_complexity_train':0.,\n",
      "               'depths_train':None, 'avg_depth_train':0.,\n",
      "               'acc_test':0.,  'n_acc_test':0,  'AP_test':None, 'mAP_test':0.,\n",
      "               'complexity_test':None, 'avg_complexity_test':0.,\n",
      "               'depths_test':None,  'avg_depth_test':0.,\n",
      "               'time_train':0., 'time_test':0.})"
     ],
     "language": "python",
     "metadata": {},
     "outputs": []
    },
    {
     "cell_type": "code",
     "collapsed": true,
     "input": [
      "sltrees.append(SoftLabelTree(sltrees[i_tree]))\n",
      "scores.append(score.copy())"
     ],
     "language": "python",
     "metadata": {},
     "outputs": []
    },
    {
     "cell_type": "code",
     "collapsed": true,
     "input": [
      "print 'There are {} trees.'.format(len(sltrees))"
     ],
     "language": "python",
     "metadata": {},
     "outputs": []
    },
    {
     "cell_type": "code",
     "collapsed": true,
     "input": [
      "i_tree = -1\n",
      "sltree = sltrees[i_tree]\n",
      "score = scores[i_tree]\n",
      "set_params(sltree)\n",
      "print sltree, '\\n\\n'\n",
      "print 'Test on training set:\\n' \\\n",
      "      '\\tAcc:\\t{acc_train:%} ({n_acc_train}/{n_train})\\n' \\\n",
      "      '\\tmAP:\\t{mAP_train:%}\\n' \\\n",
      "      '\\tAverage complexity: {avg_complexity_train}\\n' \\\n",
      "      '\\tAverage depth:      {avg_depth_train}\\n' \\\n",
      "      'Test on test set:\\n' \\\n",
      "      '\\tAcc:\\t{acc_test:%} ({n_acc_test}/{n_test})\\n' \\\n",
      "      '\\tmAP:\\t{mAP_test:%}\\n' \\\n",
      "      '\\tAverage complexity: {avg_complexity_test}\\n' \\\n",
      "      '\\tAverage depth:      {avg_depth_test}\\n\\n' \\\n",
      "      'Training time:\\n' \\\n",
      "      '\\t{t_train_h:.0f}h {t_train_m:.0f}m {t_train_s}s\\n\\n' \\\n",
      "      'Test time ({n_train}+{n_test}={n_all} samples):\\n' \\\n",
      "      '\\t{t_test_h:.0f}h {t_test_m:.0f}m {t_test_s}s\\n' \\\n",
      "      '\\tavg: {t_test_avg:f}s per sample' \\\n",
      "      .format(n_train=X_train.shape[0], n_test=X_test.shape[0], n_all=X_train.shape[0]+X_test.shape[0],\n",
      "              t_train_h=score['time_train']//3600, t_train_m=score['time_train']%3600//60, t_train_s=score['time_train']%60,\n",
      "              t_test_h=score['time_test']//3600, t_test_m=score['time_test']%3600//60, t_test_s=score['time_test']%60,\n",
      "              t_test_avg=score['time_test']/(X_train.shape[0]+X_test.shape[0]),\n",
      "              **score)"
     ],
     "language": "python",
     "metadata": {},
     "outputs": []
    },
    {
     "cell_type": "heading",
     "level": 2,
     "metadata": {},
     "source": [
      "Training"
     ]
    },
    {
     "cell_type": "code",
     "collapsed": false,
     "input": [
      "t_train_begin = time()\n",
      "sltree.train(X_train, Y_train, 1)\n",
      "t_train_end = time()\n",
      "score.update({'time_train':t_train_end-t_train_begin})"
     ],
     "language": "python",
     "metadata": {},
     "outputs": []
    },
    {
     "cell_type": "code",
     "collapsed": true,
     "input": [
      "def par_train(sltree, score, X_train, Y_train):\n",
      "    set_params(sltree)\n",
      "    t_train_begin = time()\n",
      "    sltree.train(X_train, Y_train)\n",
      "    t_train_end = time()\n",
      "    score.update({'time_train':t_train_end-t_train_begin})\n",
      "    return sltree, score"
     ],
     "language": "python",
     "metadata": {},
     "outputs": []
    },
    {
     "cell_type": "code",
     "collapsed": true,
     "input": [
      "def go():\n",
      "    n_jobs = 4\n",
      "    n_trees = 4\n",
      "\n",
      "    sltrees = [SoftLabelTree() for i in xrange(n_trees)]\n",
      "    scores = [{'acc_train':0., 'n_acc_train':0, 'AP_train':None, 'mAP_train':0.,\n",
      "               'complexity_train':None, 'avg_complexity_train':0.,\n",
      "               'depths_train':None, 'avg_depth_train':0.,\n",
      "               'acc_test':0.,  'n_acc_test':0,  'AP_test':None, 'mAP_test':0.,\n",
      "               'complexity_test':None, 'avg_complexity_test':0.,\n",
      "               'depths_test':None,  'avg_depth_test':0.,\n",
      "               'time_train':0., 'time_test':0.} for i in xrange(n_trees)]\n",
      "    result = Parallel(n_jobs=n_jobs, verbose=1)(delayed(par_train)(sltree, score, X_train, Y_train)\n",
      "                                                for sltree, score in zip(sltrees, scores))"
     ],
     "language": "python",
     "metadata": {},
     "outputs": []
    },
    {
     "cell_type": "code",
     "collapsed": true,
     "input": [
      "go()"
     ],
     "language": "python",
     "metadata": {},
     "outputs": []
    },
    {
     "cell_type": "heading",
     "level": 2,
     "metadata": {},
     "source": [
      "Testing"
     ]
    },
    {
     "cell_type": "code",
     "collapsed": true,
     "input": [
      "t_test_begin = time()\n",
      "Y_predict_train, AP_train, complexity_train, depths_train = sltree.test(X_train, Y_train, return_complexity=True, return_depth=True)\n",
      "Y_predict_test, AP_test, complexity_test, depths_test = sltree.test(X_test, Y_test, return_complexity=True, return_depth=True)\n",
      "t_test_end = time()\n",
      "n_acc_train = np.count_nonzero(Y_predict_train == Y_train)\n",
      "n_acc_test = np.count_nonzero(Y_predict_test == Y_test)\n",
      "\n",
      "score.update({'acc_train':float(n_acc_train)/Y_predict_train.shape[0],\n",
      "              'n_acc_train':n_acc_train,\n",
      "              'AP_train':AP_train,\n",
      "              'mAP_train':np.mean(AP_train),\n",
      "              'complexity_train':complexity_train,\n",
      "              'avg_complexity_train':np.mean(complexity_train),\n",
      "              'depths_train':depths_train,\n",
      "              'avg_depth_train':np.mean(depths_train),\n",
      "              'acc_test':float(n_acc_test)/Y_predict_test.shape[0],  \n",
      "              'n_acc_test':n_acc_test,\n",
      "              'AP_test':AP_test,\n",
      "              'mAP_test':np.mean(AP_test),\n",
      "              'complexity_test':complexity_test,\n",
      "              'avg_complexity_test':np.mean(complexity_test),\n",
      "              'depths_test':depths_test,\n",
      "              'avg_depth_test':np.mean(depths_test),\n",
      "              'time_test':t_test_end-t_test_begin})"
     ],
     "language": "python",
     "metadata": {},
     "outputs": []
    },
    {
     "cell_type": "code",
     "collapsed": false,
     "input": [
      "t_train_begin = time()\n",
      "sltree.continue_train(X_train, Y_train)\n",
      "t_train_end = time()\n",
      "score.update({'time_train':t_train_end-t_train_begin})"
     ],
     "language": "python",
     "metadata": {},
     "outputs": []
    },
    {
     "cell_type": "code",
     "collapsed": false,
     "input": [
      "%time sltree.continue_train(X_train, Y_train)"
     ],
     "language": "python",
     "metadata": {},
     "outputs": []
    },
    {
     "cell_type": "code",
     "collapsed": false,
     "input": [
      "sltree.train(X, Y)"
     ],
     "language": "python",
     "metadata": {},
     "outputs": []
    },
    {
     "cell_type": "code",
     "collapsed": false,
     "input": [
      "sltree.continue_train(X, Y)"
     ],
     "language": "python",
     "metadata": {},
     "outputs": []
    },
    {
     "cell_type": "code",
     "collapsed": true,
     "input": [
      "Y_predict_proba_train = sltree.test_proba(X_train)\n",
      "Y_predict_train = sltree.test(Y=Y_predict_proba_train)\n",
      "Y_predict_proba_test = sltree.test_proba(X_test)\n",
      "Y_predict_test = sltree.test(Y=Y_predict_proba_test)\n",
      "AP_train = np.ndarray(num_of_labels)\n",
      "AP_test = np.ndarray(num_of_labels)\n",
      "for i_label in xrange(num_of_labels):\n",
      "    AP_train[i_label] = average_precision_score(Y_truth_train[:, i_label], Y_predict_proba_train[:, i_label])\n",
      "    AP_test[i_label] = average_precision_score(Y_truth_test[:, i_label], Y_predict_proba_test[:, i_label])\n",
      "mAP_train = np.mean(AP_train)\n",
      "mAP_test = np.mean(AP_test)\n",
      "\n",
      "n_acc_train = np.count_nonzero(Y_predict_train == Y_train)\n",
      "n_acc_test = np.count_nonzero(Y_predict_test == Y_test)\n",
      "acc_train = float(n_acc_train) / Y_predict_train.shape[0]\n",
      "acc_test = float(n_acc_test) / Y_predict_test.shape[0]\n",
      "print 'Train: Acc = {:%} ({}/{}), mAP = {:%}'.format(acc_train, n_acc_train, Y_predict_train.shape[-1], mAP_train)\n",
      "print 'Test : Acc = {:%} ({}/{}), mAP = {:%}'.format(acc_test, n_acc_test, Y_predict_test.shape[-1], mAP_test)"
     ],
     "language": "python",
     "metadata": {},
     "outputs": []
    },
    {
     "cell_type": "code",
     "collapsed": true,
     "input": [
      "autoreload"
     ],
     "language": "python",
     "metadata": {},
     "outputs": []
    },
    {
     "cell_type": "code",
     "collapsed": true,
     "input": [
      "%%time\n",
      "\n",
      "Y_predict_proba_train = sltree.test_proba(X_train)\n",
      "Y_predict_train = sltree.test(Y=Y_predict_proba_train)\n",
      "Y_predict_proba_test = sltree.test_proba(X_test)\n",
      "Y_predict_test = sltree.test(Y=Y_predict_proba_test)\n",
      "AP_train = np.ndarray(num_of_labels)\n",
      "AP_test = np.ndarray(num_of_labels)\n",
      "for i_label in xrange(num_of_labels):\n",
      "    AP_train[i_label] = average_precision_score(Y_truth_train[:, i_label], Y_predict_proba_train[:, i_label])\n",
      "    AP_test[i_label] = average_precision_score(Y_truth_test[:, i_label], Y_predict_proba_test[:, i_label])\n",
      "mAP_train = np.mean(AP_train)\n",
      "mAP_test = np.mean(AP_test)\n",
      "\n",
      "n_acc_train = np.nonzero(Y_predict_train == Y_train)[0].shape[0]\n",
      "n_acc_test = np.nonzero(Y_predict_test == Y_test)[0].shape[0]\n",
      "acc_train = float(n_acc_train) / Y_predict_train.shape[0]\n",
      "acc_test = float(n_acc_test) / Y_predict_test.shape[0]\n",
      "print 'Train: Acc = {:%} ({}/{}), mAP = {:%}'.format(acc_train, n_acc_train, Y_predict_train.shape[-1], mAP_train)\n",
      "print 'Test : Acc = {:%} ({}/{}), mAP = {:%}'.format(acc_test, n_acc_test, Y_predict_test.shape[-1], mAP_test)"
     ],
     "language": "python",
     "metadata": {},
     "outputs": []
    },
    {
     "cell_type": "code",
     "collapsed": true,
     "input": [
      "SGDClassifier?"
     ],
     "language": "python",
     "metadata": {},
     "outputs": []
    },
    {
     "cell_type": "code",
     "collapsed": true,
     "input": [
      "ex(2).prefix = 'fv-sp' ;\n",
      "ex(2).trainOpts = {'C', 10} ;\n",
      "ex(2).datasets = {'caltech256'} ;\n",
      "ex(2).seed = 1 ;\n",
      "ex(2).opts = {...\n",
      "  'type', 'fv', ...\n",
      "  'numWords', 256, ...\n",
      "  'layouts', {'1x1', '2x2'}, ...\n",
      "  'geometricExtension', 'none', ...\n",
      "  'numPcaDimensions', 80, ...\n",
      "  'extractorFn', @(x) getDenseSIFT(x, ...\n",
      "                                   'step', 4, ...\n",
      "                                   'scales', 2.^(0:-.5:-3))};\n",
      "\n",
      "% traintest\n",
      "traintest(...\n",
      "      'prefix', 'ex-caltech256-fv-sp', ...\n",
      "      'seed', 1, ...\n",
      "      'dataset', 'caltech256', ...\n",
      "      'datasetDir', 'data/caltech256', ...\n",
      "      'lite', false, ...\n",
      "      ex(i).trainOpts{:}, ...\n",
      "      'encoderParams', ex(i).opts) ;\n",
      "\n",
      "opts.dataset = 'caltech256' ;\n",
      "opts.prefix = 'ex-caltech256-fv-sp' ;\n",
      "opts.encoderParams = {...\n",
      "  'type', 'fv', ...\n",
      "  'numWords', 256, ...\n",
      "  'layouts', {'1x1', '2x2'}, ...\n",
      "  'geometricExtension', 'none', ...\n",
      "  'numPcaDimensions', 80, ...\n",
      "  'extractorFn', @(x) getDenseSIFT(x, ...\n",
      "                                   'step', 4, ...\n",
      "                                   'scales', 2.^(0:-.5:-3))};\n",
      "opts.seed = 1 ;\n",
      "opts.lite = false ;\n",
      "opts.C = 10 ;\n",
      "opts.kernel = 'linear' ;\n",
      "opts.dataDir = 'data';\n",
      "opts.datasetDir = 'data/caltech256';\n",
      "opts.resultDir = 'data/ex-caltech256-fv-sp';\n",
      "opts.imdbPath = fullfile(opts.resultDir, 'imdb.mat') ;\n",
      "opts.encoderPath = fullfile(opts.resultDir, 'encoder.mat') ;\n",
      "opts.modelPath = fullfile(opts.resultDir, 'model.mat') ;\n",
      "opts.diaryPath = fullfile(opts.resultDir, 'diary.txt') ;\n",
      "opts.cacheDir = fullfile(opts.resultDir, 'cache') ;\n",
      "\n",
      "% setup\n",
      "opts.numTrain = 30 ;\n",
      "opts.numVal = 0\n",
      "opts.numTest = 25 ;\n",
      "opts.expectedNumClasses = 257;\n",
      "opts.seed = 1;\n",
      "opts.lite = false;"
     ],
     "language": "python",
     "metadata": {},
     "outputs": []
    },
    {
     "cell_type": "code",
     "collapsed": true,
     "input": [
      "hf = Qplot.classification(sltree.test, X, Y)"
     ],
     "language": "python",
     "metadata": {},
     "outputs": []
    },
    {
     "cell_type": "code",
     "collapsed": true,
     "input": [
      "hf = Qplot.classification(sltree_unpickled.test, X, Y)"
     ],
     "language": "python",
     "metadata": {},
     "outputs": []
    },
    {
     "cell_type": "code",
     "collapsed": true,
     "input": [
      "hf = Qplot.classification(sltree.test, X, Y)"
     ],
     "language": "python",
     "metadata": {},
     "outputs": []
    },
    {
     "cell_type": "code",
     "collapsed": true,
     "input": [
      "hf = Qplot.classification(sltree.test, X, Y)"
     ],
     "language": "python",
     "metadata": {},
     "outputs": []
    },
    {
     "cell_type": "code",
     "collapsed": true,
     "input": [
      "colors = 'bry'\n",
      "cs = contourf(xx, yy, Z, cmap=cm.Paired)\n",
      "axis('tight')\n",
      "\n",
      "# Plot also the training points\n",
      "for i, color in zip(clf.classes_, colors):\n",
      "    idx = where(Y == i)\n",
      "    scatter(X[idx, 0], X[idx, 1], c=color, cmap=cm.Paired)\n",
      "title(\"Decision surface of multi-class SGD\")\n",
      "axis('tight')\n",
      "\n",
      "# Plot the three one-against-all classifiers\n",
      "xmin, xmax = xlim()\n",
      "ymin, ymax = ylim()\n",
      "coef = clf.coef_\n",
      "intercept = clf.intercept_\n",
      "\n",
      "\n",
      "def plot_hyperplane(c, color):\n",
      "    def line(x0):\n",
      "        return (-(x0 * coef[c, 0]) - intercept[c]) / coef[c, 1]\n",
      "\n",
      "    plot([xmin, xmax], [line(xmin), line(xmax)], ls=\"--\", color=color)\n",
      "\n",
      "for i, color in zip(clf.classes_, colors):\n",
      "    plot_hyperplane(i, color)\n",
      "legend()\n",
      "show()"
     ],
     "language": "python",
     "metadata": {},
     "outputs": []
    },
    {
     "cell_type": "code",
     "collapsed": true,
     "input": [
      "%load Q.py"
     ],
     "language": "python",
     "metadata": {},
     "outputs": []
    },
    {
     "cell_type": "code",
     "collapsed": true,
     "input": [
      "%connect_info"
     ],
     "language": "python",
     "metadata": {},
     "outputs": []
    }
   ],
   "metadata": {}
  }
 ]
}